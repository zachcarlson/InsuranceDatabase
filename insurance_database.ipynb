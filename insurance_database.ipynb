{
 "cells": [
  {
   "cell_type": "markdown",
   "id": "4b45b7eb",
   "metadata": {
    "id": "4b45b7eb"
   },
   "source": [
    "# Analyzing Healthcare Insurance Data Stored in an Online MySQL Database"
   ]
  },
  {
   "cell_type": "markdown",
   "id": "c1136bad",
   "metadata": {},
   "source": [
    "## Assumptions:"
   ]
  },
  {
   "cell_type": "markdown",
   "id": "db2880a9",
   "metadata": {},
   "source": [
    "This notebook makes several assumptions about configuration.  Please ensure you satisfy these before running the Notebook:\n",
    "1. You are opening this notebook in **Jupyter Notebook**.\n",
    "2. You have access to a properly configured local or online database.\n",
    "2. **You are using Windows.**  (We will include steps for Mac configuration in a separate `.ipynb`)\n",
    "3. You have created a `database_info.py` Python file that contains the connection string to your local/online database.\n",
    "4. The database you are using is compatible with [SQLAlchemy](https://docs.sqlalchemy.org/en/14/core/engines.html) (e.g. PostgreSQL, MySQL, Oracle, Microsoft SQL Server, etc.)"
   ]
  },
  {
   "cell_type": "markdown",
   "id": "c177b695",
   "metadata": {},
   "source": [
    "## Useful Tutorials:"
   ]
  },
  {
   "cell_type": "markdown",
   "id": "71698175",
   "metadata": {},
   "source": [
    "- MySQL+Heroku configuration:\n",
    "    - [Windows]()\n",
    "    - [Mac]()\n",
    "- Local MySQL configuration:\n",
    "    - [Windows]()\n",
    "    - [Mac]()\n",
    "- Oracle configuraiton:\n",
    "    - [Windows]()\n",
    "    - [Mac]()"
   ]
  },
  {
   "cell_type": "markdown",
   "id": "HmjRToroGESW",
   "metadata": {
    "id": "HmjRToroGESW"
   },
   "source": [
    "## Configuration:\n",
    "### Install Packages:"
   ]
  },
  {
   "cell_type": "markdown",
   "id": "825eeaa3",
   "metadata": {
    "id": "825eeaa3"
   },
   "source": [
    "Ensure you have the library `sqlalchemy` installed in order to connect to the MySQL database.  Install these packages by uncommenting the code cell below:"
   ]
  },
  {
   "cell_type": "code",
   "execution_count": 1,
   "id": "14cf22e5",
   "metadata": {
    "id": "14cf22e5"
   },
   "outputs": [],
   "source": [
    "# !pip install sqlalchemy"
   ]
  },
  {
   "cell_type": "markdown",
   "id": "d02a549b",
   "metadata": {
    "id": "d02a549b"
   },
   "source": [
    "This Jupyter Notebook also requires the libraries `pandas` and `matplotlib` for importing and visualizing data.  Install these packages by uncommenting the code cell below:"
   ]
  },
  {
   "cell_type": "code",
   "execution_count": 2,
   "id": "5952f1da",
   "metadata": {
    "id": "5952f1da"
   },
   "outputs": [],
   "source": [
    "# !pip install pandas\n",
    "# !pip install matplotlib"
   ]
  },
  {
   "cell_type": "markdown",
   "id": "111f6a7b",
   "metadata": {},
   "source": [
    "### Load Functions and Packages:"
   ]
  },
  {
   "cell_type": "code",
   "execution_count": 3,
   "id": "a5e2e350",
   "metadata": {},
   "outputs": [],
   "source": [
    "import database_info #personal .py file containing database login info\n",
    "import matplotlib.pyplot as plt\n",
    "import pandas as pd\n",
    "from sqlalchemy import create_engine"
   ]
  },
  {
   "cell_type": "code",
   "execution_count": 4,
   "id": "467563aa",
   "metadata": {},
   "outputs": [],
   "source": [
    "def import_data_from_database(table_name, engine):\n",
    "    '''\n",
    "    PURPOSE: Read in entire table from database to a pandas df\n",
    "\n",
    "    PARAMETERS:\n",
    "    -----------\n",
    "        table_name : str\n",
    "            Name of table in database\n",
    "        engine : Engine object\n",
    "            MySQL connection engine built using sqlalchemy.create_engine\n",
    "    '''\n",
    "    sql_query = \"SELECT * FROM \" + table_name\n",
    "    df = pd.read_sql(sql_query, engine)\n",
    "    return df"
   ]
  },
  {
   "cell_type": "markdown",
   "id": "a7ebccc6",
   "metadata": {
    "id": "a7ebccc6"
   },
   "source": [
    "### Connect to SQL Database:"
   ]
  },
  {
   "cell_type": "markdown",
   "id": "16c9b1ff",
   "metadata": {
    "id": "16c9b1ff"
   },
   "source": [
    "Now we can make our SQL connnection, first load in your `database_info.py` file:"
   ]
  },
  {
   "cell_type": "code",
   "execution_count": 5,
   "id": "c0b5915e",
   "metadata": {},
   "outputs": [],
   "source": [
    "import database_info"
   ]
  },
  {
   "cell_type": "markdown",
   "id": "ce2aab45",
   "metadata": {},
   "source": [
    "Now let's create our connection engine.  Make sure you've updated `database_info.py` with your connection information as well as ensuring the port number is correct:"
   ]
  },
  {
   "cell_type": "code",
   "execution_count": 6,
   "id": "85b7c40e",
   "metadata": {},
   "outputs": [],
   "source": [
    "from sqlalchemy import create_engine\n",
    "engine = create_engine(database_info.connection_string)"
   ]
  },
  {
   "cell_type": "markdown",
   "id": "VtENT5c77px9",
   "metadata": {
    "id": "VtENT5c77px9"
   },
   "source": [
    "## Import SQL tables using `pandas`:"
   ]
  },
  {
   "cell_type": "markdown",
   "id": "E6yB_Qcsrhg3",
   "metadata": {
    "id": "E6yB_Qcsrhg3"
   },
   "source": [
    "The tables stored in our database are:\n",
    "- `claim_fact`\n",
    "- `dim_date`\n",
    "- `dim_member`\n",
    "- `dim_member_condition`\n",
    "- `dim_place_of_service`\n",
    "- `dim_procedure`\n",
    "- `dim_provider`\n",
    "- `dim_provider_specialty`\n",
    "- `dim_reporting_category`"
   ]
  },
  {
   "cell_type": "code",
   "execution_count": 7,
   "id": "ecda7ef1",
   "metadata": {},
   "outputs": [],
   "source": [
    "#read in tables from database\n",
    "claims = import_data_from_database(\"claim_fact\", engine)\n",
    "members = import_data_from_database(\"dim_member\", engine)\n",
    "member_conditions = import_data_from_database(\"dim_member_condition\", engine)\n",
    "place_of_service = import_data_from_database(\"dim_place_of_service\", engine)\n",
    "procedure = import_data_from_database(\"dim_procedure\", engine)\n",
    "providers = import_data_from_database(\"dim_provider\", engine)\n",
    "provider_specialties = import_data_from_database(\"dim_provider_specialty\", engine)\n",
    "provider_categories = import_data_from_database(\"dim_reporting_category\", engine)"
   ]
  },
  {
   "cell_type": "code",
   "execution_count": 8,
   "id": "cf2ccfe6",
   "metadata": {},
   "outputs": [
    {
     "data": {
      "text/html": [
       "<div>\n",
       "<style scoped>\n",
       "    .dataframe tbody tr th:only-of-type {\n",
       "        vertical-align: middle;\n",
       "    }\n",
       "\n",
       "    .dataframe tbody tr th {\n",
       "        vertical-align: top;\n",
       "    }\n",
       "\n",
       "    .dataframe thead th {\n",
       "        text-align: right;\n",
       "    }\n",
       "</style>\n",
       "<table border=\"1\" class=\"dataframe\">\n",
       "  <thead>\n",
       "    <tr style=\"text-align: right;\">\n",
       "      <th></th>\n",
       "      <th>IDNO</th>\n",
       "      <th>ClaimID</th>\n",
       "      <th>ClaimLineNum</th>\n",
       "      <th>ClaimStatusCd</th>\n",
       "      <th>ClaimType</th>\n",
       "      <th>MemberID</th>\n",
       "      <th>ProviderID</th>\n",
       "      <th>posID</th>\n",
       "      <th>ServiceDate</th>\n",
       "      <th>LoadDate</th>\n",
       "      <th>Code_Type</th>\n",
       "      <th>Code_Value</th>\n",
       "      <th>AllowedCharges</th>\n",
       "      <th>PaidClaims</th>\n",
       "      <th>MemberPaid</th>\n",
       "    </tr>\n",
       "  </thead>\n",
       "  <tbody>\n",
       "    <tr>\n",
       "      <th>0</th>\n",
       "      <td>1</td>\n",
       "      <td>1</td>\n",
       "      <td>1</td>\n",
       "      <td>A</td>\n",
       "      <td>P</td>\n",
       "      <td>251</td>\n",
       "      <td>1348</td>\n",
       "      <td>4</td>\n",
       "      <td>2019-01-18</td>\n",
       "      <td>2019-03-02</td>\n",
       "      <td>HCPC</td>\n",
       "      <td>D9222</td>\n",
       "      <td>225.0</td>\n",
       "      <td>0.0</td>\n",
       "      <td>225.0</td>\n",
       "    </tr>\n",
       "    <tr>\n",
       "      <th>1</th>\n",
       "      <td>2</td>\n",
       "      <td>1</td>\n",
       "      <td>2</td>\n",
       "      <td>A</td>\n",
       "      <td>P</td>\n",
       "      <td>251</td>\n",
       "      <td>1348</td>\n",
       "      <td>4</td>\n",
       "      <td>2019-01-18</td>\n",
       "      <td>2019-03-02</td>\n",
       "      <td>HCPC</td>\n",
       "      <td>D9223</td>\n",
       "      <td>413.0</td>\n",
       "      <td>0.0</td>\n",
       "      <td>413.0</td>\n",
       "    </tr>\n",
       "    <tr>\n",
       "      <th>2</th>\n",
       "      <td>3</td>\n",
       "      <td>2</td>\n",
       "      <td>2</td>\n",
       "      <td>A</td>\n",
       "      <td>P</td>\n",
       "      <td>251</td>\n",
       "      <td>1348</td>\n",
       "      <td>4</td>\n",
       "      <td>2019-01-18</td>\n",
       "      <td>2019-03-02</td>\n",
       "      <td>HCPC</td>\n",
       "      <td>D7230</td>\n",
       "      <td>275.0</td>\n",
       "      <td>0.0</td>\n",
       "      <td>275.0</td>\n",
       "    </tr>\n",
       "    <tr>\n",
       "      <th>3</th>\n",
       "      <td>4</td>\n",
       "      <td>2</td>\n",
       "      <td>3</td>\n",
       "      <td>A</td>\n",
       "      <td>P</td>\n",
       "      <td>251</td>\n",
       "      <td>1348</td>\n",
       "      <td>4</td>\n",
       "      <td>2019-01-18</td>\n",
       "      <td>2019-03-02</td>\n",
       "      <td>HCPC</td>\n",
       "      <td>D7230</td>\n",
       "      <td>275.0</td>\n",
       "      <td>37.0</td>\n",
       "      <td>238.0</td>\n",
       "    </tr>\n",
       "    <tr>\n",
       "      <th>4</th>\n",
       "      <td>5</td>\n",
       "      <td>2</td>\n",
       "      <td>4</td>\n",
       "      <td>A</td>\n",
       "      <td>P</td>\n",
       "      <td>251</td>\n",
       "      <td>1348</td>\n",
       "      <td>4</td>\n",
       "      <td>2019-01-18</td>\n",
       "      <td>2019-03-02</td>\n",
       "      <td>HCPC</td>\n",
       "      <td>D7230</td>\n",
       "      <td>275.0</td>\n",
       "      <td>37.0</td>\n",
       "      <td>238.0</td>\n",
       "    </tr>\n",
       "  </tbody>\n",
       "</table>\n",
       "</div>"
      ],
      "text/plain": [
       "   IDNO  ClaimID  ClaimLineNum ClaimStatusCd ClaimType  MemberID  ProviderID  \\\n",
       "0     1        1             1             A         P       251        1348   \n",
       "1     2        1             2             A         P       251        1348   \n",
       "2     3        2             2             A         P       251        1348   \n",
       "3     4        2             3             A         P       251        1348   \n",
       "4     5        2             4             A         P       251        1348   \n",
       "\n",
       "   posID ServiceDate    LoadDate Code_Type Code_Value  AllowedCharges  \\\n",
       "0      4  2019-01-18  2019-03-02      HCPC      D9222           225.0   \n",
       "1      4  2019-01-18  2019-03-02      HCPC      D9223           413.0   \n",
       "2      4  2019-01-18  2019-03-02      HCPC      D7230           275.0   \n",
       "3      4  2019-01-18  2019-03-02      HCPC      D7230           275.0   \n",
       "4      4  2019-01-18  2019-03-02      HCPC      D7230           275.0   \n",
       "\n",
       "   PaidClaims  MemberPaid  \n",
       "0         0.0       225.0  \n",
       "1         0.0       413.0  \n",
       "2         0.0       275.0  \n",
       "3        37.0       238.0  \n",
       "4        37.0       238.0  "
      ]
     },
     "execution_count": 8,
     "metadata": {},
     "output_type": "execute_result"
    }
   ],
   "source": [
    "claims.head()"
   ]
  },
  {
   "cell_type": "code",
   "execution_count": 9,
   "id": "8c18b77c",
   "metadata": {},
   "outputs": [
    {
     "data": {
      "text/html": [
       "<div>\n",
       "<style scoped>\n",
       "    .dataframe tbody tr th:only-of-type {\n",
       "        vertical-align: middle;\n",
       "    }\n",
       "\n",
       "    .dataframe tbody tr th {\n",
       "        vertical-align: top;\n",
       "    }\n",
       "\n",
       "    .dataframe thead th {\n",
       "        text-align: right;\n",
       "    }\n",
       "</style>\n",
       "<table border=\"1\" class=\"dataframe\">\n",
       "  <thead>\n",
       "    <tr style=\"text-align: right;\">\n",
       "      <th></th>\n",
       "      <th>IDNO</th>\n",
       "      <th>memberID</th>\n",
       "      <th>Gender</th>\n",
       "      <th>dateOfBirth</th>\n",
       "      <th>firstname</th>\n",
       "      <th>lastname</th>\n",
       "      <th>member_street</th>\n",
       "      <th>member_city</th>\n",
       "      <th>member_County</th>\n",
       "      <th>member_state</th>\n",
       "      <th>member_zip</th>\n",
       "      <th>Product</th>\n",
       "      <th>Client_ID</th>\n",
       "      <th>StartDate</th>\n",
       "      <th>EndDate</th>\n",
       "    </tr>\n",
       "  </thead>\n",
       "  <tbody>\n",
       "    <tr>\n",
       "      <th>0</th>\n",
       "      <td>1</td>\n",
       "      <td>1</td>\n",
       "      <td>M</td>\n",
       "      <td>1959-01-20</td>\n",
       "      <td>Liam</td>\n",
       "      <td>Aaron</td>\n",
       "      <td>1060 Blackjack Pine Street</td>\n",
       "      <td>Bulk Mail Center</td>\n",
       "      <td>Allegheny</td>\n",
       "      <td>PA</td>\n",
       "      <td>15095</td>\n",
       "      <td>PPO</td>\n",
       "      <td>A00124</td>\n",
       "      <td>2018-04-01</td>\n",
       "      <td>2020-12-31</td>\n",
       "    </tr>\n",
       "    <tr>\n",
       "      <th>1</th>\n",
       "      <td>2</td>\n",
       "      <td>2</td>\n",
       "      <td>M</td>\n",
       "      <td>1970-08-24</td>\n",
       "      <td>Noah</td>\n",
       "      <td>Archer</td>\n",
       "      <td>2383 Blister Fir Street</td>\n",
       "      <td>Warrendale</td>\n",
       "      <td>Allegheny</td>\n",
       "      <td>PA</td>\n",
       "      <td>15095</td>\n",
       "      <td>HMO</td>\n",
       "      <td>A00123</td>\n",
       "      <td>2021-09-01</td>\n",
       "      <td>2021-09-30</td>\n",
       "    </tr>\n",
       "    <tr>\n",
       "      <th>2</th>\n",
       "      <td>3</td>\n",
       "      <td>2</td>\n",
       "      <td>M</td>\n",
       "      <td>1970-08-24</td>\n",
       "      <td>Noah</td>\n",
       "      <td>Archer</td>\n",
       "      <td>2383 Blister Fir Street</td>\n",
       "      <td>Warrendale</td>\n",
       "      <td>Allegheny</td>\n",
       "      <td>PA</td>\n",
       "      <td>15095</td>\n",
       "      <td>HMO</td>\n",
       "      <td>A00123</td>\n",
       "      <td>2018-04-01</td>\n",
       "      <td>2021-07-31</td>\n",
       "    </tr>\n",
       "    <tr>\n",
       "      <th>3</th>\n",
       "      <td>4</td>\n",
       "      <td>3</td>\n",
       "      <td>M</td>\n",
       "      <td>1957-04-01</td>\n",
       "      <td>Elijah</td>\n",
       "      <td>Beck</td>\n",
       "      <td>1230 Bracted Balsam Fir Street</td>\n",
       "      <td>Bethel Park</td>\n",
       "      <td>Allegheny</td>\n",
       "      <td>PA</td>\n",
       "      <td>15102</td>\n",
       "      <td>PPO</td>\n",
       "      <td>A00124</td>\n",
       "      <td>2018-04-01</td>\n",
       "      <td>2018-07-31</td>\n",
       "    </tr>\n",
       "    <tr>\n",
       "      <th>4</th>\n",
       "      <td>5</td>\n",
       "      <td>4</td>\n",
       "      <td>M</td>\n",
       "      <td>1986-06-27</td>\n",
       "      <td>Lucas</td>\n",
       "      <td>Blixt</td>\n",
       "      <td>1755 Bristlecone Fir Street</td>\n",
       "      <td>Braddock</td>\n",
       "      <td>Allegheny</td>\n",
       "      <td>PA</td>\n",
       "      <td>15104</td>\n",
       "      <td>PPO</td>\n",
       "      <td>A00124</td>\n",
       "      <td>2018-04-01</td>\n",
       "      <td>2020-12-31</td>\n",
       "    </tr>\n",
       "  </tbody>\n",
       "</table>\n",
       "</div>"
      ],
      "text/plain": [
       "   IDNO  memberID Gender dateOfBirth firstname lastname  \\\n",
       "0     1         1      M  1959-01-20      Liam    Aaron   \n",
       "1     2         2      M  1970-08-24      Noah   Archer   \n",
       "2     3         2      M  1970-08-24      Noah   Archer   \n",
       "3     4         3      M  1957-04-01    Elijah     Beck   \n",
       "4     5         4      M  1986-06-27     Lucas    Blixt   \n",
       "\n",
       "                    member_street       member_city member_County  \\\n",
       "0      1060 Blackjack Pine Street  Bulk Mail Center     Allegheny   \n",
       "1         2383 Blister Fir Street        Warrendale     Allegheny   \n",
       "2         2383 Blister Fir Street        Warrendale     Allegheny   \n",
       "3  1230 Bracted Balsam Fir Street       Bethel Park     Allegheny   \n",
       "4     1755 Bristlecone Fir Street          Braddock     Allegheny   \n",
       "\n",
       "  member_state member_zip Product Client_ID   StartDate     EndDate  \n",
       "0           PA      15095     PPO    A00124  2018-04-01  2020-12-31  \n",
       "1           PA      15095     HMO    A00123  2021-09-01  2021-09-30  \n",
       "2           PA      15095     HMO    A00123  2018-04-01  2021-07-31  \n",
       "3           PA      15102     PPO    A00124  2018-04-01  2018-07-31  \n",
       "4           PA      15104     PPO    A00124  2018-04-01  2020-12-31  "
      ]
     },
     "execution_count": 9,
     "metadata": {},
     "output_type": "execute_result"
    }
   ],
   "source": [
    "members.head()"
   ]
  },
  {
   "cell_type": "code",
   "execution_count": 10,
   "id": "7070a924",
   "metadata": {},
   "outputs": [
    {
     "data": {
      "text/html": [
       "<div>\n",
       "<style scoped>\n",
       "    .dataframe tbody tr th:only-of-type {\n",
       "        vertical-align: middle;\n",
       "    }\n",
       "\n",
       "    .dataframe tbody tr th {\n",
       "        vertical-align: top;\n",
       "    }\n",
       "\n",
       "    .dataframe thead th {\n",
       "        text-align: right;\n",
       "    }\n",
       "</style>\n",
       "<table border=\"1\" class=\"dataframe\">\n",
       "  <thead>\n",
       "    <tr style=\"text-align: right;\">\n",
       "      <th></th>\n",
       "      <th>IDNO</th>\n",
       "      <th>memberID</th>\n",
       "      <th>DIABETES</th>\n",
       "      <th>CAD</th>\n",
       "      <th>CHF</th>\n",
       "      <th>HYPERTENSION</th>\n",
       "      <th>COPD</th>\n",
       "      <th>StartDate</th>\n",
       "      <th>EndDate</th>\n",
       "    </tr>\n",
       "  </thead>\n",
       "  <tbody>\n",
       "    <tr>\n",
       "      <th>0</th>\n",
       "      <td>1</td>\n",
       "      <td>1</td>\n",
       "      <td>1</td>\n",
       "      <td>0</td>\n",
       "      <td>0</td>\n",
       "      <td>0</td>\n",
       "      <td>0</td>\n",
       "      <td>2020-08-01</td>\n",
       "      <td>2020-12-31</td>\n",
       "    </tr>\n",
       "    <tr>\n",
       "      <th>1</th>\n",
       "      <td>2</td>\n",
       "      <td>1</td>\n",
       "      <td>0</td>\n",
       "      <td>0</td>\n",
       "      <td>0</td>\n",
       "      <td>0</td>\n",
       "      <td>0</td>\n",
       "      <td>2018-04-01</td>\n",
       "      <td>2020-07-31</td>\n",
       "    </tr>\n",
       "    <tr>\n",
       "      <th>2</th>\n",
       "      <td>3</td>\n",
       "      <td>2</td>\n",
       "      <td>0</td>\n",
       "      <td>0</td>\n",
       "      <td>0</td>\n",
       "      <td>0</td>\n",
       "      <td>0</td>\n",
       "      <td>2019-01-01</td>\n",
       "      <td>2021-07-31</td>\n",
       "    </tr>\n",
       "    <tr>\n",
       "      <th>3</th>\n",
       "      <td>4</td>\n",
       "      <td>2</td>\n",
       "      <td>0</td>\n",
       "      <td>0</td>\n",
       "      <td>0</td>\n",
       "      <td>0</td>\n",
       "      <td>0</td>\n",
       "      <td>2021-09-01</td>\n",
       "      <td>2022-01-31</td>\n",
       "    </tr>\n",
       "    <tr>\n",
       "      <th>4</th>\n",
       "      <td>5</td>\n",
       "      <td>2</td>\n",
       "      <td>0</td>\n",
       "      <td>0</td>\n",
       "      <td>0</td>\n",
       "      <td>1</td>\n",
       "      <td>0</td>\n",
       "      <td>2018-04-01</td>\n",
       "      <td>2018-12-31</td>\n",
       "    </tr>\n",
       "  </tbody>\n",
       "</table>\n",
       "</div>"
      ],
      "text/plain": [
       "   IDNO  memberID  DIABETES  CAD  CHF  HYPERTENSION  COPD   StartDate  \\\n",
       "0     1         1         1    0    0             0     0  2020-08-01   \n",
       "1     2         1         0    0    0             0     0  2018-04-01   \n",
       "2     3         2         0    0    0             0     0  2019-01-01   \n",
       "3     4         2         0    0    0             0     0  2021-09-01   \n",
       "4     5         2         0    0    0             1     0  2018-04-01   \n",
       "\n",
       "      EndDate  \n",
       "0  2020-12-31  \n",
       "1  2020-07-31  \n",
       "2  2021-07-31  \n",
       "3  2022-01-31  \n",
       "4  2018-12-31  "
      ]
     },
     "execution_count": 10,
     "metadata": {},
     "output_type": "execute_result"
    }
   ],
   "source": [
    "member_conditions.head()"
   ]
  },
  {
   "cell_type": "code",
   "execution_count": 11,
   "id": "aec89ca4",
   "metadata": {},
   "outputs": [
    {
     "data": {
      "text/html": [
       "<div>\n",
       "<style scoped>\n",
       "    .dataframe tbody tr th:only-of-type {\n",
       "        vertical-align: middle;\n",
       "    }\n",
       "\n",
       "    .dataframe tbody tr th {\n",
       "        vertical-align: top;\n",
       "    }\n",
       "\n",
       "    .dataframe thead th {\n",
       "        text-align: right;\n",
       "    }\n",
       "</style>\n",
       "<table border=\"1\" class=\"dataframe\">\n",
       "  <thead>\n",
       "    <tr style=\"text-align: right;\">\n",
       "      <th></th>\n",
       "      <th>posID</th>\n",
       "      <th>pos_Desc</th>\n",
       "      <th>pos_category</th>\n",
       "    </tr>\n",
       "  </thead>\n",
       "  <tbody>\n",
       "    <tr>\n",
       "      <th>0</th>\n",
       "      <td>1</td>\n",
       "      <td>Pharmacy</td>\n",
       "      <td>OF</td>\n",
       "    </tr>\n",
       "    <tr>\n",
       "      <th>1</th>\n",
       "      <td>2</td>\n",
       "      <td>Telehealth</td>\n",
       "      <td>OF</td>\n",
       "    </tr>\n",
       "    <tr>\n",
       "      <th>2</th>\n",
       "      <td>3</td>\n",
       "      <td>School</td>\n",
       "      <td>OF</td>\n",
       "    </tr>\n",
       "    <tr>\n",
       "      <th>3</th>\n",
       "      <td>4</td>\n",
       "      <td>Office</td>\n",
       "      <td>OF</td>\n",
       "    </tr>\n",
       "    <tr>\n",
       "      <th>4</th>\n",
       "      <td>5</td>\n",
       "      <td>Home</td>\n",
       "      <td>OF</td>\n",
       "    </tr>\n",
       "  </tbody>\n",
       "</table>\n",
       "</div>"
      ],
      "text/plain": [
       "   posID    pos_Desc pos_category\n",
       "0      1    Pharmacy           OF\n",
       "1      2  Telehealth           OF\n",
       "2      3      School           OF\n",
       "3      4      Office           OF\n",
       "4      5        Home           OF"
      ]
     },
     "execution_count": 11,
     "metadata": {},
     "output_type": "execute_result"
    }
   ],
   "source": [
    "place_of_service.head()"
   ]
  },
  {
   "cell_type": "code",
   "execution_count": 12,
   "id": "e955bc4d",
   "metadata": {},
   "outputs": [
    {
     "data": {
      "text/html": [
       "<div>\n",
       "<style scoped>\n",
       "    .dataframe tbody tr th:only-of-type {\n",
       "        vertical-align: middle;\n",
       "    }\n",
       "\n",
       "    .dataframe tbody tr th {\n",
       "        vertical-align: top;\n",
       "    }\n",
       "\n",
       "    .dataframe thead th {\n",
       "        text-align: right;\n",
       "    }\n",
       "</style>\n",
       "<table border=\"1\" class=\"dataframe\">\n",
       "  <thead>\n",
       "    <tr style=\"text-align: right;\">\n",
       "      <th></th>\n",
       "      <th>IDNO</th>\n",
       "      <th>Code_Type</th>\n",
       "      <th>Code_Value</th>\n",
       "      <th>PROCEDURE_DESC</th>\n",
       "      <th>FACILITY_CD</th>\n",
       "      <th>PROF_CD</th>\n",
       "    </tr>\n",
       "  </thead>\n",
       "  <tbody>\n",
       "    <tr>\n",
       "      <th>0</th>\n",
       "      <td>1</td>\n",
       "      <td>DRG</td>\n",
       "      <td>003</td>\n",
       "      <td>ECMO or trach w MV 96+ hrs or PDX exc face, mo...</td>\n",
       "      <td>I12</td>\n",
       "      <td>I12</td>\n",
       "    </tr>\n",
       "    <tr>\n",
       "      <th>1</th>\n",
       "      <td>2</td>\n",
       "      <td>DRG</td>\n",
       "      <td>012</td>\n",
       "      <td>Tracheostomy for Face, Mouth  Neck Diagnoses o...</td>\n",
       "      <td>I12</td>\n",
       "      <td>I12</td>\n",
       "    </tr>\n",
       "    <tr>\n",
       "      <th>2</th>\n",
       "      <td>3</td>\n",
       "      <td>DRG</td>\n",
       "      <td>023</td>\n",
       "      <td>Craniotomy w Major Device Implant or Acute Com...</td>\n",
       "      <td>I12</td>\n",
       "      <td>I12</td>\n",
       "    </tr>\n",
       "    <tr>\n",
       "      <th>3</th>\n",
       "      <td>4</td>\n",
       "      <td>DRG</td>\n",
       "      <td>053</td>\n",
       "      <td>Spinal disorders  injuries w/o CC/MCC</td>\n",
       "      <td>I11a</td>\n",
       "      <td>I11a</td>\n",
       "    </tr>\n",
       "    <tr>\n",
       "      <th>4</th>\n",
       "      <td>5</td>\n",
       "      <td>DRG</td>\n",
       "      <td>054</td>\n",
       "      <td>Nervous system neoplasms w MCC</td>\n",
       "      <td>I11a</td>\n",
       "      <td>I11a</td>\n",
       "    </tr>\n",
       "  </tbody>\n",
       "</table>\n",
       "</div>"
      ],
      "text/plain": [
       "   IDNO Code_Type Code_Value  \\\n",
       "0     1       DRG        003   \n",
       "1     2       DRG        012   \n",
       "2     3       DRG        023   \n",
       "3     4       DRG        053   \n",
       "4     5       DRG        054   \n",
       "\n",
       "                                      PROCEDURE_DESC FACILITY_CD PROF_CD  \n",
       "0  ECMO or trach w MV 96+ hrs or PDX exc face, mo...         I12     I12  \n",
       "1  Tracheostomy for Face, Mouth  Neck Diagnoses o...         I12     I12  \n",
       "2  Craniotomy w Major Device Implant or Acute Com...         I12     I12  \n",
       "3              Spinal disorders  injuries w/o CC/MCC        I11a    I11a  \n",
       "4                     Nervous system neoplasms w MCC        I11a    I11a  "
      ]
     },
     "execution_count": 12,
     "metadata": {},
     "output_type": "execute_result"
    }
   ],
   "source": [
    "procedure.head()"
   ]
  },
  {
   "cell_type": "code",
   "execution_count": 13,
   "id": "2cf33fb4",
   "metadata": {},
   "outputs": [
    {
     "data": {
      "text/html": [
       "<div>\n",
       "<style scoped>\n",
       "    .dataframe tbody tr th:only-of-type {\n",
       "        vertical-align: middle;\n",
       "    }\n",
       "\n",
       "    .dataframe tbody tr th {\n",
       "        vertical-align: top;\n",
       "    }\n",
       "\n",
       "    .dataframe thead th {\n",
       "        text-align: right;\n",
       "    }\n",
       "</style>\n",
       "<table border=\"1\" class=\"dataframe\">\n",
       "  <thead>\n",
       "    <tr style=\"text-align: right;\">\n",
       "      <th></th>\n",
       "      <th>ProviderID</th>\n",
       "      <th>SpecialtyID</th>\n",
       "      <th>ProviderType</th>\n",
       "      <th>OrgName</th>\n",
       "      <th>FirstName</th>\n",
       "      <th>LastName</th>\n",
       "      <th>provider_street</th>\n",
       "      <th>provider_city</th>\n",
       "      <th>provider_county</th>\n",
       "      <th>provider_state</th>\n",
       "      <th>provider_zip</th>\n",
       "    </tr>\n",
       "  </thead>\n",
       "  <tbody>\n",
       "    <tr>\n",
       "      <th>0</th>\n",
       "      <td>1</td>\n",
       "      <td>45</td>\n",
       "      <td>2</td>\n",
       "      <td>Not Applicable</td>\n",
       "      <td>Manuel</td>\n",
       "      <td>Estanislau</td>\n",
       "      <td>2533 Coyote Street</td>\n",
       "      <td>Levittown</td>\n",
       "      <td>Bucks</td>\n",
       "      <td>PA</td>\n",
       "      <td>19055</td>\n",
       "    </tr>\n",
       "    <tr>\n",
       "      <th>1</th>\n",
       "      <td>2</td>\n",
       "      <td>38</td>\n",
       "      <td>1</td>\n",
       "      <td>Thomas Marchese Medical Supplies</td>\n",
       "      <td>NA</td>\n",
       "      <td>NA</td>\n",
       "      <td>4207 Florida Slash Pine Street</td>\n",
       "      <td>George School</td>\n",
       "      <td>Bucks</td>\n",
       "      <td>PA</td>\n",
       "      <td>18940</td>\n",
       "    </tr>\n",
       "    <tr>\n",
       "      <th>2</th>\n",
       "      <td>3</td>\n",
       "      <td>65</td>\n",
       "      <td>2</td>\n",
       "      <td>Not Applicable</td>\n",
       "      <td>Edith</td>\n",
       "      <td>Evans</td>\n",
       "      <td>4080 Dalls Porpoise Street</td>\n",
       "      <td>Newportville</td>\n",
       "      <td>Bucks</td>\n",
       "      <td>PA</td>\n",
       "      <td>19056</td>\n",
       "    </tr>\n",
       "    <tr>\n",
       "      <th>3</th>\n",
       "      <td>4</td>\n",
       "      <td>8</td>\n",
       "      <td>2</td>\n",
       "      <td>Not Applicable</td>\n",
       "      <td>Anthony</td>\n",
       "      <td>Abbing</td>\n",
       "      <td>2844 Rock Vole Street</td>\n",
       "      <td>Caste Village</td>\n",
       "      <td>Allegheny</td>\n",
       "      <td>PA</td>\n",
       "      <td>15236</td>\n",
       "    </tr>\n",
       "    <tr>\n",
       "      <th>4</th>\n",
       "      <td>5</td>\n",
       "      <td>8</td>\n",
       "      <td>2</td>\n",
       "      <td>Not Applicable</td>\n",
       "      <td>Rossmore</td>\n",
       "      <td>Abbott</td>\n",
       "      <td>745 Rough-toothed Dolphin Street</td>\n",
       "      <td>Pittsburgh</td>\n",
       "      <td>Allegheny</td>\n",
       "      <td>PA</td>\n",
       "      <td>15236</td>\n",
       "    </tr>\n",
       "  </tbody>\n",
       "</table>\n",
       "</div>"
      ],
      "text/plain": [
       "   ProviderID  SpecialtyID  ProviderType                           OrgName  \\\n",
       "0           1           45             2                    Not Applicable   \n",
       "1           2           38             1  Thomas Marchese Medical Supplies   \n",
       "2           3           65             2                    Not Applicable   \n",
       "3           4            8             2                    Not Applicable   \n",
       "4           5            8             2                    Not Applicable   \n",
       "\n",
       "  FirstName    LastName                   provider_street  provider_city  \\\n",
       "0    Manuel  Estanislau                2533 Coyote Street      Levittown   \n",
       "1        NA          NA    4207 Florida Slash Pine Street  George School   \n",
       "2     Edith       Evans        4080 Dalls Porpoise Street   Newportville   \n",
       "3   Anthony      Abbing             2844 Rock Vole Street  Caste Village   \n",
       "4  Rossmore      Abbott  745 Rough-toothed Dolphin Street     Pittsburgh   \n",
       "\n",
       "  provider_county provider_state provider_zip  \n",
       "0           Bucks             PA        19055  \n",
       "1           Bucks             PA        18940  \n",
       "2           Bucks             PA        19056  \n",
       "3       Allegheny             PA        15236  \n",
       "4       Allegheny             PA        15236  "
      ]
     },
     "execution_count": 13,
     "metadata": {},
     "output_type": "execute_result"
    }
   ],
   "source": [
    "providers.head()"
   ]
  },
  {
   "cell_type": "code",
   "execution_count": 14,
   "id": "0fb62606",
   "metadata": {},
   "outputs": [
    {
     "data": {
      "text/html": [
       "<div>\n",
       "<style scoped>\n",
       "    .dataframe tbody tr th:only-of-type {\n",
       "        vertical-align: middle;\n",
       "    }\n",
       "\n",
       "    .dataframe tbody tr th {\n",
       "        vertical-align: top;\n",
       "    }\n",
       "\n",
       "    .dataframe thead th {\n",
       "        text-align: right;\n",
       "    }\n",
       "</style>\n",
       "<table border=\"1\" class=\"dataframe\">\n",
       "  <thead>\n",
       "    <tr style=\"text-align: right;\">\n",
       "      <th></th>\n",
       "      <th>SpecialtyID</th>\n",
       "      <th>Specialty_Desc</th>\n",
       "      <th>SpecRup_Cd</th>\n",
       "      <th>SpecRup_DESC</th>\n",
       "      <th>SpecType</th>\n",
       "    </tr>\n",
       "  </thead>\n",
       "  <tbody>\n",
       "    <tr>\n",
       "      <th>0</th>\n",
       "      <td>1</td>\n",
       "      <td>General practice</td>\n",
       "      <td>CS01</td>\n",
       "      <td>Family Practice / General Practice</td>\n",
       "      <td>PCP</td>\n",
       "    </tr>\n",
       "    <tr>\n",
       "      <th>1</th>\n",
       "      <td>2</td>\n",
       "      <td>General surgery</td>\n",
       "      <td>CS02</td>\n",
       "      <td>General Surgery</td>\n",
       "      <td>SPEC</td>\n",
       "    </tr>\n",
       "    <tr>\n",
       "      <th>2</th>\n",
       "      <td>3</td>\n",
       "      <td>Allergy / immunology</td>\n",
       "      <td>CS03</td>\n",
       "      <td>Allergy / Immunology</td>\n",
       "      <td>SPEC</td>\n",
       "    </tr>\n",
       "    <tr>\n",
       "      <th>3</th>\n",
       "      <td>4</td>\n",
       "      <td>Otolaryngology</td>\n",
       "      <td>CS04</td>\n",
       "      <td>Otolaryngology</td>\n",
       "      <td>SPEC</td>\n",
       "    </tr>\n",
       "    <tr>\n",
       "      <th>4</th>\n",
       "      <td>5</td>\n",
       "      <td>Anesthesiology</td>\n",
       "      <td>CS05</td>\n",
       "      <td>Anesthesiology</td>\n",
       "      <td>SPEC</td>\n",
       "    </tr>\n",
       "  </tbody>\n",
       "</table>\n",
       "</div>"
      ],
      "text/plain": [
       "   SpecialtyID        Specialty_Desc SpecRup_Cd  \\\n",
       "0            1      General practice       CS01   \n",
       "1            2       General surgery       CS02   \n",
       "2            3  Allergy / immunology       CS03   \n",
       "3            4        Otolaryngology       CS04   \n",
       "4            5        Anesthesiology       CS05   \n",
       "\n",
       "                         SpecRup_DESC SpecType  \n",
       "0  Family Practice / General Practice      PCP  \n",
       "1                     General Surgery     SPEC  \n",
       "2                Allergy / Immunology     SPEC  \n",
       "3                      Otolaryngology     SPEC  \n",
       "4                      Anesthesiology     SPEC  "
      ]
     },
     "execution_count": 14,
     "metadata": {},
     "output_type": "execute_result"
    }
   ],
   "source": [
    "provider_specialties.head()"
   ]
  },
  {
   "cell_type": "code",
   "execution_count": 15,
   "id": "ac99d1de",
   "metadata": {},
   "outputs": [
    {
     "data": {
      "text/html": [
       "<div>\n",
       "<style scoped>\n",
       "    .dataframe tbody tr th:only-of-type {\n",
       "        vertical-align: middle;\n",
       "    }\n",
       "\n",
       "    .dataframe tbody tr th {\n",
       "        vertical-align: top;\n",
       "    }\n",
       "\n",
       "    .dataframe thead th {\n",
       "        text-align: right;\n",
       "    }\n",
       "</style>\n",
       "<table border=\"1\" class=\"dataframe\">\n",
       "  <thead>\n",
       "    <tr style=\"text-align: right;\">\n",
       "      <th></th>\n",
       "      <th>RPT_CD</th>\n",
       "      <th>LVL_01</th>\n",
       "      <th>LVL_02</th>\n",
       "      <th>LVL_03</th>\n",
       "    </tr>\n",
       "  </thead>\n",
       "  <tbody>\n",
       "    <tr>\n",
       "      <th>0</th>\n",
       "      <td>I11a</td>\n",
       "      <td>FIP</td>\n",
       "      <td>Medical</td>\n",
       "      <td>Other</td>\n",
       "    </tr>\n",
       "    <tr>\n",
       "      <th>1</th>\n",
       "      <td>I11b</td>\n",
       "      <td>FIP</td>\n",
       "      <td>Rehabilitation</td>\n",
       "      <td>Other</td>\n",
       "    </tr>\n",
       "    <tr>\n",
       "      <th>2</th>\n",
       "      <td>I12</td>\n",
       "      <td>FIP</td>\n",
       "      <td>Surgical</td>\n",
       "      <td>Other</td>\n",
       "    </tr>\n",
       "    <tr>\n",
       "      <th>3</th>\n",
       "      <td>I13a</td>\n",
       "      <td>FIP</td>\n",
       "      <td>Psychiatric</td>\n",
       "      <td>Hospital</td>\n",
       "    </tr>\n",
       "    <tr>\n",
       "      <th>4</th>\n",
       "      <td>I13b</td>\n",
       "      <td>FIP</td>\n",
       "      <td>Psychiatric</td>\n",
       "      <td>Residential</td>\n",
       "    </tr>\n",
       "  </tbody>\n",
       "</table>\n",
       "</div>"
      ],
      "text/plain": [
       "  RPT_CD LVL_01          LVL_02       LVL_03\n",
       "0   I11a    FIP         Medical        Other\n",
       "1   I11b    FIP  Rehabilitation        Other\n",
       "2    I12    FIP        Surgical        Other\n",
       "3   I13a    FIP     Psychiatric     Hospital\n",
       "4   I13b    FIP     Psychiatric  Residential"
      ]
     },
     "execution_count": 15,
     "metadata": {},
     "output_type": "execute_result"
    }
   ],
   "source": [
    "provider_categories.head()"
   ]
  },
  {
   "cell_type": "markdown",
   "id": "3c5e1c45",
   "metadata": {
    "id": "3c5e1c45"
   },
   "source": [
    "## EDA:"
   ]
  },
  {
   "cell_type": "code",
   "execution_count": 16,
   "id": "dBUHhuj9tbsh",
   "metadata": {
    "colab": {
     "base_uri": "https://localhost:8080/"
    },
    "id": "dBUHhuj9tbsh",
    "outputId": "cbe8e210-c31b-4135-a1c7-36e68c8eb318"
   },
   "outputs": [
    {
     "name": "stdout",
     "output_type": "stream",
     "text": [
      "<class 'pandas.core.frame.DataFrame'>\n",
      "RangeIndex: 45423 entries, 0 to 45422\n",
      "Data columns (total 15 columns):\n",
      " #   Column          Non-Null Count  Dtype         \n",
      "---  ------          --------------  -----         \n",
      " 0   IDNO            45423 non-null  int64         \n",
      " 1   ClaimID         45423 non-null  int64         \n",
      " 2   ClaimLineNum    45423 non-null  int64         \n",
      " 3   ClaimStatusCd   45423 non-null  object        \n",
      " 4   ClaimType       45423 non-null  object        \n",
      " 5   MemberID        45423 non-null  int64         \n",
      " 6   ProviderID      45423 non-null  int64         \n",
      " 7   posID           45423 non-null  int64         \n",
      " 8   ServiceDate     45423 non-null  datetime64[ns]\n",
      " 9   LoadDate        45423 non-null  datetime64[ns]\n",
      " 10  Code_Type       45423 non-null  object        \n",
      " 11  Code_Value      45423 non-null  object        \n",
      " 12  AllowedCharges  45423 non-null  float64       \n",
      " 13  PaidClaims      45423 non-null  float64       \n",
      " 14  MemberPaid      45423 non-null  float64       \n",
      "dtypes: datetime64[ns](2), float64(3), int64(6), object(4)\n",
      "memory usage: 5.2+ MB\n"
     ]
    }
   ],
   "source": [
    "#convert columns\n",
    "import pandas as pd\n",
    "\n",
    "claims['ServiceDate'] = pd.to_datetime(claims['ServiceDate'])\n",
    "claims['LoadDate'] = pd.to_datetime(claims['LoadDate'])\n",
    "\n",
    "claims.info()"
   ]
  },
  {
   "cell_type": "code",
   "execution_count": 17,
   "id": "rQFffMs_vB6Y",
   "metadata": {
    "colab": {
     "base_uri": "https://localhost:8080/"
    },
    "id": "rQFffMs_vB6Y",
    "outputId": "e620faa0-03f1-4ef1-cd1d-d68fb16ac502"
   },
   "outputs": [
    {
     "name": "stdout",
     "output_type": "stream",
     "text": [
      "<class 'pandas.core.frame.DataFrame'>\n",
      "RangeIndex: 840 entries, 0 to 839\n",
      "Data columns (total 15 columns):\n",
      " #   Column         Non-Null Count  Dtype         \n",
      "---  ------         --------------  -----         \n",
      " 0   IDNO           840 non-null    int64         \n",
      " 1   memberID       840 non-null    int64         \n",
      " 2   Gender         840 non-null    object        \n",
      " 3   dateOfBirth    840 non-null    datetime64[ns]\n",
      " 4   firstname      840 non-null    object        \n",
      " 5   lastname       840 non-null    object        \n",
      " 6   member_street  840 non-null    object        \n",
      " 7   member_city    840 non-null    object        \n",
      " 8   member_County  840 non-null    object        \n",
      " 9   member_state   840 non-null    object        \n",
      " 10  member_zip     840 non-null    object        \n",
      " 11  Product        840 non-null    object        \n",
      " 12  Client_ID      840 non-null    object        \n",
      " 13  StartDate      840 non-null    datetime64[ns]\n",
      " 14  EndDate        840 non-null    datetime64[ns]\n",
      "dtypes: datetime64[ns](3), int64(2), object(10)\n",
      "memory usage: 98.6+ KB\n"
     ]
    }
   ],
   "source": [
    "#convert members columns to date\n",
    "members['dateOfBirth'] = pd.to_datetime(members['dateOfBirth'])\n",
    "members['StartDate'] = pd.to_datetime(members['StartDate'])\n",
    "members['EndDate'] = pd.to_datetime(members['EndDate'])\n",
    "members.info()"
   ]
  },
  {
   "cell_type": "code",
   "execution_count": 18,
   "id": "nE3oB4r0wqQD",
   "metadata": {
    "colab": {
     "base_uri": "https://localhost:8080/"
    },
    "id": "nE3oB4r0wqQD",
    "outputId": "7cb7eb67-3219-4aa7-aac3-93e926e798e7"
   },
   "outputs": [
    {
     "name": "stdout",
     "output_type": "stream",
     "text": [
      "M    498\n",
      "F    342\n",
      "Name: Gender, dtype: int64 \n",
      "\n",
      "M    0.592857\n",
      "F    0.407143\n",
      "Name: Gender, dtype: float64\n"
     ]
    }
   ],
   "source": [
    "#get number of males v females\n",
    "member_sex_counts = members[\"Gender\"].value_counts()\n",
    "print(member_sex_counts, \"\\n\")\n",
    "\n",
    "#get proportions of males v females\n",
    "member_sex_props = members[\"Gender\"].value_counts(normalize=True)\n",
    "print(member_sex_props)"
   ]
  },
  {
   "cell_type": "code",
   "execution_count": 52,
   "id": "C_VitcY07-W3",
   "metadata": {
    "colab": {
     "base_uri": "https://localhost:8080/",
     "height": 294
    },
    "id": "C_VitcY07-W3",
    "outputId": "3c957370-ae8f-415b-be4d-6e03bd7f6936"
   },
   "outputs": [
    {
     "data": {
      "image/png": "[encoded data removed]",
      "text/plain": [
       "<Figure size 432x288 with 1 Axes>"
      ]
     },
     "metadata": {
      "needs_background": "light"
     },
     "output_type": "display_data"
    }
   ],
   "source": [
    "#plot data in matplotlib\n",
    "import matplotlib.pyplot as plt\n",
    "\n",
    "fig, ax = plt.subplots()\n",
    "\n",
    "member_sex_props.plot(kind=\"bar\")\n",
    "\n",
    "ax.set_xlabel(\"Sex\")\n",
    "ax.set_ylabel(\"Proportion\")\n",
    "ax.set_title(\"Member Sex\")\n",
    "plt.show()"
   ]
  },
  {
   "cell_type": "code",
   "execution_count": 51,
   "id": "WogxOQ3ax-X1",
   "metadata": {
    "colab": {
     "base_uri": "https://localhost:8080/",
     "height": 309
    },
    "id": "WogxOQ3ax-X1",
    "outputId": "28605e5f-886f-4cd8-d647-446d65bf7445"
   },
   "outputs": [
    {
     "data": {
      "image/png": "[encoded data removed]",
      "text/plain": [
       "<Figure size 432x288 with 1 Axes>"
      ]
     },
     "metadata": {
      "needs_background": "light"
     },
     "output_type": "display_data"
    }
   ],
   "source": [
    "fig, ax = plt.subplots()\n",
    "\n",
    "members_type_of_policy = members[\"Product\"].value_counts(normalize=True)\n",
    "members_type_of_policy.plot(kind=\"bar\")\n",
    "\n",
    "ax.set_xlabel(\"Plan Type\")\n",
    "ax.set_ylabel(\"Proportion\")\n",
    "ax.set_title(\"Member Plan Type\")\n",
    "\n",
    "plt.show()"
   ]
  },
  {
   "cell_type": "markdown",
   "id": "6addb9d3",
   "metadata": {},
   "source": [
    "## Time Series Analysis:"
   ]
  },
  {
   "cell_type": "markdown",
   "id": "595af769",
   "metadata": {},
   "source": [
    "Let's try to visualize the number of claims, and charges based on `ServiceDate`."
   ]
  },
  {
   "cell_type": "code",
   "execution_count": 42,
   "id": "729e6a11",
   "metadata": {},
   "outputs": [
    {
     "data": {
      "text/html": [
       "<div>\n",
       "<style scoped>\n",
       "    .dataframe tbody tr th:only-of-type {\n",
       "        vertical-align: middle;\n",
       "    }\n",
       "\n",
       "    .dataframe tbody tr th {\n",
       "        vertical-align: top;\n",
       "    }\n",
       "\n",
       "    .dataframe thead th {\n",
       "        text-align: right;\n",
       "    }\n",
       "</style>\n",
       "<table border=\"1\" class=\"dataframe\">\n",
       "  <thead>\n",
       "    <tr style=\"text-align: right;\">\n",
       "      <th></th>\n",
       "      <th>IDNO</th>\n",
       "      <th>ClaimID</th>\n",
       "      <th>ClaimLineNum</th>\n",
       "      <th>ClaimStatusCd</th>\n",
       "      <th>ClaimType</th>\n",
       "      <th>MemberID</th>\n",
       "      <th>ProviderID</th>\n",
       "      <th>posID</th>\n",
       "      <th>ServiceDate</th>\n",
       "      <th>LoadDate</th>\n",
       "      <th>Code_Type</th>\n",
       "      <th>Code_Value</th>\n",
       "      <th>AllowedCharges</th>\n",
       "      <th>PaidClaims</th>\n",
       "      <th>MemberPaid</th>\n",
       "    </tr>\n",
       "  </thead>\n",
       "  <tbody>\n",
       "    <tr>\n",
       "      <th>0</th>\n",
       "      <td>1</td>\n",
       "      <td>1</td>\n",
       "      <td>1</td>\n",
       "      <td>A</td>\n",
       "      <td>P</td>\n",
       "      <td>251</td>\n",
       "      <td>1348</td>\n",
       "      <td>4</td>\n",
       "      <td>2019-01-18</td>\n",
       "      <td>2019-03-02</td>\n",
       "      <td>HCPC</td>\n",
       "      <td>D9222</td>\n",
       "      <td>225.0</td>\n",
       "      <td>0.0</td>\n",
       "      <td>225.0</td>\n",
       "    </tr>\n",
       "    <tr>\n",
       "      <th>1</th>\n",
       "      <td>2</td>\n",
       "      <td>1</td>\n",
       "      <td>2</td>\n",
       "      <td>A</td>\n",
       "      <td>P</td>\n",
       "      <td>251</td>\n",
       "      <td>1348</td>\n",
       "      <td>4</td>\n",
       "      <td>2019-01-18</td>\n",
       "      <td>2019-03-02</td>\n",
       "      <td>HCPC</td>\n",
       "      <td>D9223</td>\n",
       "      <td>413.0</td>\n",
       "      <td>0.0</td>\n",
       "      <td>413.0</td>\n",
       "    </tr>\n",
       "    <tr>\n",
       "      <th>2</th>\n",
       "      <td>3</td>\n",
       "      <td>2</td>\n",
       "      <td>2</td>\n",
       "      <td>A</td>\n",
       "      <td>P</td>\n",
       "      <td>251</td>\n",
       "      <td>1348</td>\n",
       "      <td>4</td>\n",
       "      <td>2019-01-18</td>\n",
       "      <td>2019-03-02</td>\n",
       "      <td>HCPC</td>\n",
       "      <td>D7230</td>\n",
       "      <td>275.0</td>\n",
       "      <td>0.0</td>\n",
       "      <td>275.0</td>\n",
       "    </tr>\n",
       "    <tr>\n",
       "      <th>3</th>\n",
       "      <td>4</td>\n",
       "      <td>2</td>\n",
       "      <td>3</td>\n",
       "      <td>A</td>\n",
       "      <td>P</td>\n",
       "      <td>251</td>\n",
       "      <td>1348</td>\n",
       "      <td>4</td>\n",
       "      <td>2019-01-18</td>\n",
       "      <td>2019-03-02</td>\n",
       "      <td>HCPC</td>\n",
       "      <td>D7230</td>\n",
       "      <td>275.0</td>\n",
       "      <td>37.0</td>\n",
       "      <td>238.0</td>\n",
       "    </tr>\n",
       "    <tr>\n",
       "      <th>4</th>\n",
       "      <td>5</td>\n",
       "      <td>2</td>\n",
       "      <td>4</td>\n",
       "      <td>A</td>\n",
       "      <td>P</td>\n",
       "      <td>251</td>\n",
       "      <td>1348</td>\n",
       "      <td>4</td>\n",
       "      <td>2019-01-18</td>\n",
       "      <td>2019-03-02</td>\n",
       "      <td>HCPC</td>\n",
       "      <td>D7230</td>\n",
       "      <td>275.0</td>\n",
       "      <td>37.0</td>\n",
       "      <td>238.0</td>\n",
       "    </tr>\n",
       "  </tbody>\n",
       "</table>\n",
       "</div>"
      ],
      "text/plain": [
       "   IDNO  ClaimID  ClaimLineNum ClaimStatusCd ClaimType  MemberID  ProviderID  \\\n",
       "0     1        1             1             A         P       251        1348   \n",
       "1     2        1             2             A         P       251        1348   \n",
       "2     3        2             2             A         P       251        1348   \n",
       "3     4        2             3             A         P       251        1348   \n",
       "4     5        2             4             A         P       251        1348   \n",
       "\n",
       "   posID ServiceDate   LoadDate Code_Type Code_Value  AllowedCharges  \\\n",
       "0      4  2019-01-18 2019-03-02      HCPC      D9222           225.0   \n",
       "1      4  2019-01-18 2019-03-02      HCPC      D9223           413.0   \n",
       "2      4  2019-01-18 2019-03-02      HCPC      D7230           275.0   \n",
       "3      4  2019-01-18 2019-03-02      HCPC      D7230           275.0   \n",
       "4      4  2019-01-18 2019-03-02      HCPC      D7230           275.0   \n",
       "\n",
       "   PaidClaims  MemberPaid  \n",
       "0         0.0       225.0  \n",
       "1         0.0       413.0  \n",
       "2         0.0       275.0  \n",
       "3        37.0       238.0  \n",
       "4        37.0       238.0  "
      ]
     },
     "execution_count": 42,
     "metadata": {},
     "output_type": "execute_result"
    }
   ],
   "source": [
    "claims.head()"
   ]
  },
  {
   "cell_type": "code",
   "execution_count": 43,
   "id": "321e24aa",
   "metadata": {},
   "outputs": [
    {
     "data": {
      "text/html": [
       "<div>\n",
       "<style scoped>\n",
       "    .dataframe tbody tr th:only-of-type {\n",
       "        vertical-align: middle;\n",
       "    }\n",
       "\n",
       "    .dataframe tbody tr th {\n",
       "        vertical-align: top;\n",
       "    }\n",
       "\n",
       "    .dataframe thead th {\n",
       "        text-align: right;\n",
       "    }\n",
       "</style>\n",
       "<table border=\"1\" class=\"dataframe\">\n",
       "  <thead>\n",
       "    <tr style=\"text-align: right;\">\n",
       "      <th></th>\n",
       "      <th>ServiceDate</th>\n",
       "      <th>AllowedCharges</th>\n",
       "      <th>PaidClaims</th>\n",
       "      <th>MemberPaid</th>\n",
       "    </tr>\n",
       "  </thead>\n",
       "  <tbody>\n",
       "    <tr>\n",
       "      <th>0</th>\n",
       "      <td>2019-01-18</td>\n",
       "      <td>225.0</td>\n",
       "      <td>0.0</td>\n",
       "      <td>225.0</td>\n",
       "    </tr>\n",
       "    <tr>\n",
       "      <th>1</th>\n",
       "      <td>2019-01-18</td>\n",
       "      <td>413.0</td>\n",
       "      <td>0.0</td>\n",
       "      <td>413.0</td>\n",
       "    </tr>\n",
       "    <tr>\n",
       "      <th>2</th>\n",
       "      <td>2019-01-18</td>\n",
       "      <td>275.0</td>\n",
       "      <td>0.0</td>\n",
       "      <td>275.0</td>\n",
       "    </tr>\n",
       "    <tr>\n",
       "      <th>3</th>\n",
       "      <td>2019-01-18</td>\n",
       "      <td>275.0</td>\n",
       "      <td>37.0</td>\n",
       "      <td>238.0</td>\n",
       "    </tr>\n",
       "    <tr>\n",
       "      <th>4</th>\n",
       "      <td>2019-01-18</td>\n",
       "      <td>275.0</td>\n",
       "      <td>37.0</td>\n",
       "      <td>238.0</td>\n",
       "    </tr>\n",
       "  </tbody>\n",
       "</table>\n",
       "</div>"
      ],
      "text/plain": [
       "  ServiceDate  AllowedCharges  PaidClaims  MemberPaid\n",
       "0  2019-01-18           225.0         0.0       225.0\n",
       "1  2019-01-18           413.0         0.0       413.0\n",
       "2  2019-01-18           275.0         0.0       275.0\n",
       "3  2019-01-18           275.0        37.0       238.0\n",
       "4  2019-01-18           275.0        37.0       238.0"
      ]
     },
     "execution_count": 43,
     "metadata": {},
     "output_type": "execute_result"
    }
   ],
   "source": [
    "#get only service date and charges\n",
    "claims_ts = claims.loc[:, [\"ServiceDate\", \"AllowedCharges\", \"PaidClaims\", \"MemberPaid\"]]\n",
    "claims_ts.head()"
   ]
  },
  {
   "cell_type": "code",
   "execution_count": 44,
   "id": "3b0fd162",
   "metadata": {},
   "outputs": [
    {
     "data": {
      "text/html": [
       "<div>\n",
       "<style scoped>\n",
       "    .dataframe tbody tr th:only-of-type {\n",
       "        vertical-align: middle;\n",
       "    }\n",
       "\n",
       "    .dataframe tbody tr th {\n",
       "        vertical-align: top;\n",
       "    }\n",
       "\n",
       "    .dataframe thead th {\n",
       "        text-align: right;\n",
       "    }\n",
       "</style>\n",
       "<table border=\"1\" class=\"dataframe\">\n",
       "  <thead>\n",
       "    <tr style=\"text-align: right;\">\n",
       "      <th></th>\n",
       "      <th>AllowedCharges</th>\n",
       "      <th>PaidClaims</th>\n",
       "      <th>MemberPaid</th>\n",
       "    </tr>\n",
       "    <tr>\n",
       "      <th>ServiceDate</th>\n",
       "      <th></th>\n",
       "      <th></th>\n",
       "      <th></th>\n",
       "    </tr>\n",
       "  </thead>\n",
       "  <tbody>\n",
       "    <tr>\n",
       "      <th>2018-04-02</th>\n",
       "      <td>4308.65</td>\n",
       "      <td>2891.09</td>\n",
       "      <td>1417.56</td>\n",
       "    </tr>\n",
       "    <tr>\n",
       "      <th>2018-04-03</th>\n",
       "      <td>4748.53</td>\n",
       "      <td>4342.01</td>\n",
       "      <td>406.52</td>\n",
       "    </tr>\n",
       "    <tr>\n",
       "      <th>2018-04-04</th>\n",
       "      <td>24545.89</td>\n",
       "      <td>21086.49</td>\n",
       "      <td>3459.40</td>\n",
       "    </tr>\n",
       "    <tr>\n",
       "      <th>2018-04-05</th>\n",
       "      <td>16562.68</td>\n",
       "      <td>15097.53</td>\n",
       "      <td>1465.15</td>\n",
       "    </tr>\n",
       "    <tr>\n",
       "      <th>2018-04-06</th>\n",
       "      <td>2937.56</td>\n",
       "      <td>1688.76</td>\n",
       "      <td>1248.80</td>\n",
       "    </tr>\n",
       "  </tbody>\n",
       "</table>\n",
       "</div>"
      ],
      "text/plain": [
       "             AllowedCharges  PaidClaims  MemberPaid\n",
       "ServiceDate                                        \n",
       "2018-04-02          4308.65     2891.09     1417.56\n",
       "2018-04-03          4748.53     4342.01      406.52\n",
       "2018-04-04         24545.89    21086.49     3459.40\n",
       "2018-04-05         16562.68    15097.53     1465.15\n",
       "2018-04-06          2937.56     1688.76     1248.80"
      ]
     },
     "execution_count": 44,
     "metadata": {},
     "output_type": "execute_result"
    }
   ],
   "source": [
    "daily_claims = claims_ts.groupby(\"ServiceDate\").sum()\n",
    "daily_claims.head()"
   ]
  },
  {
   "cell_type": "code",
   "execution_count": 68,
   "id": "8178ca2d",
   "metadata": {},
   "outputs": [
    {
     "data": {
      "image/png": "[encoded data removed]",
      "text/plain": [
       "<Figure size 1080x720 with 1 Axes>"
      ]
     },
     "metadata": {
      "needs_background": "light"
     },
     "output_type": "display_data"
    }
   ],
   "source": [
    "#time graph of AllowedCharges\n",
    "fig, ax = plt.subplots()\n",
    "ax.plot(daily_claims.index, daily_claims.AllowedCharges)\n",
    "ax.plot(daily_claims.index, daily_claims.MemberPaid)\n",
    "\n",
    "#customize appearance\n",
    "plt.ticklabel_format(style='plain', axis=\"y\")\n",
    "plt.xlabel(\"Date\")\n",
    "plt.title(\"Charges Combined\")\n",
    "plt.ylabel(\"Dollars (USD)\")\n",
    "plt.gcf().set_size_inches(15, 10)\n",
    "plt.show()"
   ]
  },
  {
   "cell_type": "code",
   "execution_count": 114,
   "id": "87178ff6",
   "metadata": {},
   "outputs": [
    {
     "data": {
      "text/html": [
       "<div>\n",
       "<style scoped>\n",
       "    .dataframe tbody tr th:only-of-type {\n",
       "        vertical-align: middle;\n",
       "    }\n",
       "\n",
       "    .dataframe tbody tr th {\n",
       "        vertical-align: top;\n",
       "    }\n",
       "\n",
       "    .dataframe thead th {\n",
       "        text-align: right;\n",
       "    }\n",
       "</style>\n",
       "<table border=\"1\" class=\"dataframe\">\n",
       "  <thead>\n",
       "    <tr style=\"text-align: right;\">\n",
       "      <th></th>\n",
       "      <th>AllowedCharges</th>\n",
       "      <th>PaidClaims</th>\n",
       "      <th>MemberPaid</th>\n",
       "      <th>7D_claims</th>\n",
       "      <th>7D_AllowedCharges</th>\n",
       "      <th>7D_MemberPaid</th>\n",
       "      <th>7D_PaidClaims</th>\n",
       "    </tr>\n",
       "    <tr>\n",
       "      <th>ServiceDate</th>\n",
       "      <th></th>\n",
       "      <th></th>\n",
       "      <th></th>\n",
       "      <th></th>\n",
       "      <th></th>\n",
       "      <th></th>\n",
       "      <th></th>\n",
       "    </tr>\n",
       "  </thead>\n",
       "  <tbody>\n",
       "    <tr>\n",
       "      <th>2018-06-02</th>\n",
       "      <td>895.09</td>\n",
       "      <td>771.23</td>\n",
       "      <td>123.86</td>\n",
       "      <td>4039.777143</td>\n",
       "      <td>4039.777143</td>\n",
       "      <td>1003.530000</td>\n",
       "      <td>3036.247143</td>\n",
       "    </tr>\n",
       "    <tr>\n",
       "      <th>2018-06-03</th>\n",
       "      <td>462.15</td>\n",
       "      <td>462.15</td>\n",
       "      <td>0.00</td>\n",
       "      <td>3925.060000</td>\n",
       "      <td>3925.060000</td>\n",
       "      <td>982.101429</td>\n",
       "      <td>2942.958571</td>\n",
       "    </tr>\n",
       "    <tr>\n",
       "      <th>2018-06-04</th>\n",
       "      <td>31866.57</td>\n",
       "      <td>29383.15</td>\n",
       "      <td>2483.42</td>\n",
       "      <td>8355.177143</td>\n",
       "      <td>8355.177143</td>\n",
       "      <td>1312.804286</td>\n",
       "      <td>7042.372857</td>\n",
       "    </tr>\n",
       "    <tr>\n",
       "      <th>2018-06-05</th>\n",
       "      <td>7180.85</td>\n",
       "      <td>5275.25</td>\n",
       "      <td>1905.60</td>\n",
       "      <td>9146.724286</td>\n",
       "      <td>9146.724286</td>\n",
       "      <td>1509.827143</td>\n",
       "      <td>7636.897143</td>\n",
       "    </tr>\n",
       "    <tr>\n",
       "      <th>2018-06-06</th>\n",
       "      <td>13643.08</td>\n",
       "      <td>9835.19</td>\n",
       "      <td>3807.89</td>\n",
       "      <td>10319.865714</td>\n",
       "      <td>10319.865714</td>\n",
       "      <td>1910.330000</td>\n",
       "      <td>8409.535714</td>\n",
       "    </tr>\n",
       "  </tbody>\n",
       "</table>\n",
       "</div>"
      ],
      "text/plain": [
       "             AllowedCharges  PaidClaims  MemberPaid     7D_claims  \\\n",
       "ServiceDate                                                         \n",
       "2018-06-02           895.09      771.23      123.86   4039.777143   \n",
       "2018-06-03           462.15      462.15        0.00   3925.060000   \n",
       "2018-06-04         31866.57    29383.15     2483.42   8355.177143   \n",
       "2018-06-05          7180.85     5275.25     1905.60   9146.724286   \n",
       "2018-06-06         13643.08     9835.19     3807.89  10319.865714   \n",
       "\n",
       "             7D_AllowedCharges  7D_MemberPaid  7D_PaidClaims  \n",
       "ServiceDate                                                   \n",
       "2018-06-02         4039.777143    1003.530000    3036.247143  \n",
       "2018-06-03         3925.060000     982.101429    2942.958571  \n",
       "2018-06-04         8355.177143    1312.804286    7042.372857  \n",
       "2018-06-05         9146.724286    1509.827143    7636.897143  \n",
       "2018-06-06        10319.865714    1910.330000    8409.535714  "
      ]
     },
     "execution_count": 114,
     "metadata": {},
     "output_type": "execute_result"
    }
   ],
   "source": [
    "#subset to filter out spike in 2018\n",
    "daily_claims_sub = daily_claims[daily_claims.index > \"2018-06-01\"]\n",
    "daily_claims_sub.head()"
   ]
  },
  {
   "cell_type": "code",
   "execution_count": 115,
   "id": "e3272ac0",
   "metadata": {},
   "outputs": [
    {
     "data": {
      "image/png": "[encoded data removed]",
      "text/plain": [
       "<Figure size 720x360 with 1 Axes>"
      ]
     },
     "metadata": {
      "needs_background": "light"
     },
     "output_type": "display_data"
    }
   ],
   "source": [
    "#time graph of AllowedCharges\n",
    "fig, ax = plt.subplots()\n",
    "ax.plot(daily_claims_sub.index, daily_claims_sub.AllowedCharges)\n",
    "ax.plot(daily_claims_sub.index, daily_claims_sub.MemberPaid)\n",
    "\n",
    "#customize appearance\n",
    "plt.ticklabel_format(style='plain', axis=\"y\")\n",
    "plt.xlabel(\"Date\")\n",
    "plt.title(\"Charges Combined\")\n",
    "plt.ylabel(\"Dollars (USD)\")\n",
    "#plt.ylim([0,100000])\n",
    "plt.gcf().set_size_inches(10, 5)\n",
    "plt.show()"
   ]
  },
  {
   "cell_type": "code",
   "execution_count": 116,
   "id": "b01c4aa7",
   "metadata": {},
   "outputs": [
    {
     "data": {
      "image/png": "[encoded data removed]",
      "text/plain": [
       "<Figure size 720x432 with 1 Axes>"
      ]
     },
     "metadata": {
      "needs_background": "light"
     },
     "output_type": "display_data"
    }
   ],
   "source": [
    "monthly_claims = daily_claims_sub.groupby(pd.Grouper(freq=\"MS\")).sum()\n",
    "monthly_claims[\"AllowedCharges\"].plot()\n",
    "monthly_claims[\"PaidClaims\"].plot()\n",
    "monthly_claims[\"MemberPaid\"].plot()\n",
    "\n",
    "#cusotmize appearance\n",
    "plt.title(\"Insurance Claims with MS frequency\")\n",
    "plt.xlabel(\"Date\")\n",
    "plt.ylabel(\"Dollars (USD)\")\n",
    "# plt.xlim([\"2019-01-01\",\"2021-01-01\"])\n",
    "# plt.ylim([0,500000])\n",
    "plt.gcf().set_size_inches(10, 6)\n",
    "plt.legend()\n",
    "plt.show()"
   ]
  },
  {
   "cell_type": "code",
   "execution_count": 118,
   "id": "63e2d669",
   "metadata": {},
   "outputs": [
    {
     "name": "stderr",
     "output_type": "stream",
     "text": [
      "C:\\Users\\Zach\\AppData\\Local\\Temp\\ipykernel_1468\\4211794357.py:3: SettingWithCopyWarning: \n",
      "A value is trying to be set on a copy of a slice from a DataFrame.\n",
      "Try using .loc[row_indexer,col_indexer] = value instead\n",
      "\n",
      "See the caveats in the documentation: https://pandas.pydata.org/pandas-docs/stable/user_guide/indexing.html#returning-a-view-versus-a-copy\n",
      "  daily_claims_sub['7D_AllowedCharges'] = daily_claims_sub.AllowedCharges.rolling(7).mean()\n",
      "C:\\Users\\Zach\\AppData\\Local\\Temp\\ipykernel_1468\\4211794357.py:4: SettingWithCopyWarning: \n",
      "A value is trying to be set on a copy of a slice from a DataFrame.\n",
      "Try using .loc[row_indexer,col_indexer] = value instead\n",
      "\n",
      "See the caveats in the documentation: https://pandas.pydata.org/pandas-docs/stable/user_guide/indexing.html#returning-a-view-versus-a-copy\n",
      "  daily_claims_sub['7D_MemberPaid'] = daily_claims_sub.MemberPaid.rolling(7).mean()\n",
      "C:\\Users\\Zach\\AppData\\Local\\Temp\\ipykernel_1468\\4211794357.py:5: SettingWithCopyWarning: \n",
      "A value is trying to be set on a copy of a slice from a DataFrame.\n",
      "Try using .loc[row_indexer,col_indexer] = value instead\n",
      "\n",
      "See the caveats in the documentation: https://pandas.pydata.org/pandas-docs/stable/user_guide/indexing.html#returning-a-view-versus-a-copy\n",
      "  daily_claims_sub['7D_PaidClaims'] = daily_claims_sub.PaidClaims.rolling(7).mean()\n"
     ]
    },
    {
     "data": {
      "image/png": "[encoded data removed]",
      "text/plain": [
       "<Figure size 1080x360 with 1 Axes>"
      ]
     },
     "metadata": {
      "needs_background": "light"
     },
     "output_type": "display_data"
    }
   ],
   "source": [
    "import seaborn as sns\n",
    "\n",
    "daily_claims_sub['7D_AllowedCharges'] = daily_claims_sub.AllowedCharges.rolling(7).mean()\n",
    "daily_claims_sub['7D_MemberPaid'] = daily_claims_sub.MemberPaid.rolling(7).mean()\n",
    "daily_claims_sub['7D_PaidClaims'] = daily_claims_sub.PaidClaims.rolling(7).mean()\n",
    "\n",
    "plt.gcf().set_size_inches(15, 5)\n",
    "#sns.lineplot(x = daily_claims_sub.index, y = 'AllowedCharges', data = daily_claims_sub, label = 'Daily AllowedCharges')\n",
    "sns.lineplot(x = daily_claims_sub.index, y = '7D_AllowedCharges', data = daily_claims_sub, label = 'Rolling Average', palette=['g'])\n",
    "\n",
    "plt.ylabel(\"Cost (USD)\")\n",
    "plt.show()"
   ]
  },
  {
   "cell_type": "code",
   "execution_count": 119,
   "id": "c3d62a21",
   "metadata": {
    "scrolled": true
   },
   "outputs": [
    {
     "name": "stderr",
     "output_type": "stream",
     "text": [
      "C:\\Users\\Zach\\AppData\\Local\\Temp\\ipykernel_1468\\1265887258.py:1: SettingWithCopyWarning: \n",
      "A value is trying to be set on a copy of a slice from a DataFrame.\n",
      "Try using .loc[row_indexer,col_indexer] = value instead\n",
      "\n",
      "See the caveats in the documentation: https://pandas.pydata.org/pandas-docs/stable/user_guide/indexing.html#returning-a-view-versus-a-copy\n",
      "  daily_claims_sub['30D_AllowedCharges'] = daily_claims_sub.AllowedCharges.rolling(30).mean()\n",
      "C:\\Users\\Zach\\AppData\\Local\\Temp\\ipykernel_1468\\1265887258.py:2: SettingWithCopyWarning: \n",
      "A value is trying to be set on a copy of a slice from a DataFrame.\n",
      "Try using .loc[row_indexer,col_indexer] = value instead\n",
      "\n",
      "See the caveats in the documentation: https://pandas.pydata.org/pandas-docs/stable/user_guide/indexing.html#returning-a-view-versus-a-copy\n",
      "  daily_claims_sub['30D_MemberPaid'] = daily_claims_sub.MemberPaid.rolling(30).mean()\n",
      "C:\\Users\\Zach\\AppData\\Local\\Temp\\ipykernel_1468\\1265887258.py:3: SettingWithCopyWarning: \n",
      "A value is trying to be set on a copy of a slice from a DataFrame.\n",
      "Try using .loc[row_indexer,col_indexer] = value instead\n",
      "\n",
      "See the caveats in the documentation: https://pandas.pydata.org/pandas-docs/stable/user_guide/indexing.html#returning-a-view-versus-a-copy\n",
      "  daily_claims_sub['30D_PaidClaims'] = daily_claims_sub.PaidClaims.rolling(30).mean()\n"
     ]
    },
    {
     "data": {
      "image/png": "[encoded data removed]",
      "text/plain": [
       "<Figure size 1080x360 with 1 Axes>"
      ]
     },
     "metadata": {
      "needs_background": "light"
     },
     "output_type": "display_data"
    }
   ],
   "source": [
    "daily_claims_sub['30D_AllowedCharges'] = daily_claims_sub.AllowedCharges.rolling(30).mean()\n",
    "daily_claims_sub['30D_MemberPaid'] = daily_claims_sub.MemberPaid.rolling(30).mean()\n",
    "daily_claims_sub['30D_PaidClaims'] = daily_claims_sub.PaidClaims.rolling(30).mean()\n",
    "\n",
    "plt.gcf().set_size_inches(15, 5)\n",
    "#sns.lineplot(x = daily_claims_sub.index, y = 'AllowedCharges', data = daily_claims_sub, label = 'Daily AllowedCharges')\n",
    "sns.lineplot(x = daily_claims_sub.index, y = '30D_AllowedCharges', data = daily_claims_sub, label = 'Rolling Average', palette=['g'])\n",
    "\n",
    "plt.ylabel(\"Cost (USD)\")\n",
    "plt.show()"
   ]
  }
 ],
 "metadata": {
  "colab": {
   "collapsed_sections": [],
   "name": "insurance_database.ipynb",
   "provenance": []
  },
  "kernelspec": {
   "display_name": "Python 3 (ipykernel)",
   "language": "python",
   "name": "python3"
  },
  "language_info": {
   "codemirror_mode": {
    "name": "ipython",
    "version": 3
   },
   "file_extension": ".py",
   "mimetype": "text/x-python",
   "name": "python",
   "nbconvert_exporter": "python",
   "pygments_lexer": "ipython3",
   "version": "3.10.1"
  }
 },
 "nbformat": 4,
 "nbformat_minor": 5
}
