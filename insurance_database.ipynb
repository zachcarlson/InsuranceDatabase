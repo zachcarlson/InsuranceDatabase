{
  "cells": [
    {
      "cell_type": "markdown",
      "id": "4b45b7eb",
      "metadata": {
        "id": "4b45b7eb"
      },
      "source": [
        "# Insurance Database"
      ]
    },
    {
      "cell_type": "markdown",
      "id": "HmjRToroGESW",
      "metadata": {
        "id": "HmjRToroGESW"
      },
      "source": [
        "## Configuration:\n",
        "### Install Packages:"
      ]
    },
    {
      "cell_type": "markdown",
      "id": "825eeaa3",
      "metadata": {
        "id": "825eeaa3"
      },
      "source": [
        "Ensure you have the libraries `ipython-sql` and `mysqlclient` installed in order to connect to the MySQL database.  Install these packages by uncommenting the code cell below:"
      ]
    },
    {
      "cell_type": "code",
      "execution_count": 1,
      "id": "14cf22e5",
      "metadata": {
        "id": "14cf22e5"
      },
      "outputs": [],
      "source": [
        "# !pip install ipython-sql\n",
        "# !pip install mysqlclient"
      ]
    },
    {
      "cell_type": "markdown",
      "id": "d02a549b",
      "metadata": {
        "id": "d02a549b"
      },
      "source": [
        "This Jupyter Notebook also requires the libraries `pandas` and `matplotlib` for importing and visualizing data.  Install these packages by uncommenting the code cell below:"
      ]
    },
    {
      "cell_type": "code",
      "execution_count": 2,
      "id": "5952f1da",
      "metadata": {
        "id": "5952f1da"
      },
      "outputs": [],
      "source": [
        "# !pip install pandas\n",
        "# !pip install matplotlib"
      ]
    },
    {
      "cell_type": "markdown",
      "id": "a7ebccc6",
      "metadata": {
        "id": "a7ebccc6"
      },
      "source": [
        "### Connect to SQL Database:"
      ]
    },
    {
      "cell_type": "markdown",
      "id": "16c9b1ff",
      "metadata": {
        "id": "16c9b1ff"
      },
      "source": [
        "Now we can make our SQL connnection, first load the extension:"
      ]
    },
    {
      "cell_type": "code",
      "execution_count": 3,
      "id": "fcsAdBbR45DA",
      "metadata": {
        "id": "fcsAdBbR45DA"
      },
      "outputs": [],
      "source": [
        "#load sql extension to make connection to database.\n",
        "%load_ext sql"
      ]
    },
    {
      "cell_type": "markdown",
      "id": "5d57649f",
      "metadata": {
        "id": "5d57649f"
      },
      "source": [
        "Finally, connect to the SQL database using the appropriate connection string.  **Make sure to replace `<username>`, `<password>`, `<localhost>` and `<dataBase>` with the correct login information for your database.** *If the cell below throws an error, uncomment the first cell to re-install `mysqlclient`*"
      ]
    },
    {
      "cell_type": "code",
      "execution_count": 47,
      "id": "5vcDfRP45Djk",
      "metadata": {
        "id": "5vcDfRP45Djk"
      },
      "outputs": [],
      "source": [
        "#set a connection string to connect to the database.\n",
        "#%sql mysql+mysqldb://<username>:<password>@<localhost>/<database>"
      ]
    },
    {
      "cell_type": "markdown",
      "id": "VtENT5c77px9",
      "metadata": {
        "id": "VtENT5c77px9"
      },
      "source": [
        "## Import SQL tables using `pandas`:"
      ]
    },
    {
      "cell_type": "markdown",
      "source": [
        "Our table names are:\n",
        "- `claim_fact`\n",
        "- `dim_date`\n",
        "- `dim_member`\n",
        "- `dim_member_condition`\n",
        "- `dim_place_of_service`\n",
        "- `dim_procedure`\n",
        "- `dim_provider`\n",
        "- `dim_provider_specialty`\n",
        "- `dim_provider_category`"
      ],
      "metadata": {
        "id": "E6yB_Qcsrhg3"
      },
      "id": "E6yB_Qcsrhg3"
    },
    {
      "cell_type": "markdown",
      "id": "545d4904",
      "metadata": {
        "id": "545d4904"
      },
      "source": [
        "Use `%%sql` at the start of a cell to do SQL queries.  Do not add any comments within the cell, or an error will be thrown.  Limit the number of queries.  Instead, import the data into Python as a `pandas` DataFrame to avoid hitting the hourly query limit."
      ]
    },
    {
      "cell_type": "code",
      "execution_count": null,
      "id": "FJ1LzGzi5n3u",
      "metadata": {
        "id": "FJ1LzGzi5n3u"
      },
      "outputs": [],
      "source": [
        "%%sql\n",
        "\n",
        "SELECT *\n",
        "FROM claim_fact;"
      ]
    },
    {
      "cell_type": "code",
      "execution_count": 9,
      "id": "rGZ3VLJf7D58",
      "metadata": {
        "colab": {
          "base_uri": "https://localhost:8080/"
        },
        "id": "rGZ3VLJf7D58",
        "outputId": "73569c5a-0860-4942-8534-60c6b7b450d6"
      },
      "outputs": [
        {
          "output_type": "execute_result",
          "data": {
            "text/plain": [
              "sql.run.ResultSet"
            ]
          },
          "metadata": {},
          "execution_count": 9
        }
      ],
      "source": [
        "#assign the most recent query to a ResultSet object using the underscore\n",
        "result_claims = _\n",
        "type(result_claims)"
      ]
    },
    {
      "cell_type": "code",
      "execution_count": 11,
      "id": "AUC1sWIU7yqb",
      "metadata": {
        "colab": {
          "base_uri": "https://localhost:8080/",
          "height": 206
        },
        "id": "AUC1sWIU7yqb",
        "outputId": "3f6f1ee9-8d83-441d-b469-e14f9243a053"
      },
      "outputs": [
        {
          "output_type": "execute_result",
          "data": {
            "text/html": [
              "\n",
              "  <div id=\"df-3e23b601-900b-4f63-ad95-c70b544005cc\">\n",
              "    <div class=\"colab-df-container\">\n",
              "      <div>\n",
              "<style scoped>\n",
              "    .dataframe tbody tr th:only-of-type {\n",
              "        vertical-align: middle;\n",
              "    }\n",
              "\n",
              "    .dataframe tbody tr th {\n",
              "        vertical-align: top;\n",
              "    }\n",
              "\n",
              "    .dataframe thead th {\n",
              "        text-align: right;\n",
              "    }\n",
              "</style>\n",
              "<table border=\"1\" class=\"dataframe\">\n",
              "  <thead>\n",
              "    <tr style=\"text-align: right;\">\n",
              "      <th></th>\n",
              "      <th>IDNO</th>\n",
              "      <th>ClaimID</th>\n",
              "      <th>ClaimLineNum</th>\n",
              "      <th>ClaimStatusCd</th>\n",
              "      <th>ClaimType</th>\n",
              "      <th>MemberID</th>\n",
              "      <th>ProviderID</th>\n",
              "      <th>posID</th>\n",
              "      <th>ServiceDate</th>\n",
              "      <th>LoadDate</th>\n",
              "      <th>Code_Type</th>\n",
              "      <th>Code_Value</th>\n",
              "      <th>AllowedCharges</th>\n",
              "      <th>PaidClaims</th>\n",
              "      <th>MemberPaid</th>\n",
              "    </tr>\n",
              "  </thead>\n",
              "  <tbody>\n",
              "    <tr>\n",
              "      <th>0</th>\n",
              "      <td>1</td>\n",
              "      <td>1</td>\n",
              "      <td>1</td>\n",
              "      <td>A</td>\n",
              "      <td>P</td>\n",
              "      <td>251</td>\n",
              "      <td>1348</td>\n",
              "      <td>4</td>\n",
              "      <td>18-Jan-2019</td>\n",
              "      <td>02-Mar-2019</td>\n",
              "      <td>HCPC</td>\n",
              "      <td>D9222</td>\n",
              "      <td>225.00</td>\n",
              "      <td>0.00</td>\n",
              "      <td>225.00</td>\n",
              "    </tr>\n",
              "    <tr>\n",
              "      <th>1</th>\n",
              "      <td>2</td>\n",
              "      <td>1</td>\n",
              "      <td>2</td>\n",
              "      <td>A</td>\n",
              "      <td>P</td>\n",
              "      <td>251</td>\n",
              "      <td>1348</td>\n",
              "      <td>4</td>\n",
              "      <td>18-Jan-2019</td>\n",
              "      <td>02-Mar-2019</td>\n",
              "      <td>HCPC</td>\n",
              "      <td>D9223</td>\n",
              "      <td>413.00</td>\n",
              "      <td>0.00</td>\n",
              "      <td>413.00</td>\n",
              "    </tr>\n",
              "    <tr>\n",
              "      <th>2</th>\n",
              "      <td>3</td>\n",
              "      <td>2</td>\n",
              "      <td>2</td>\n",
              "      <td>A</td>\n",
              "      <td>P</td>\n",
              "      <td>251</td>\n",
              "      <td>1348</td>\n",
              "      <td>4</td>\n",
              "      <td>18-Jan-2019</td>\n",
              "      <td>02-Mar-2019</td>\n",
              "      <td>HCPC</td>\n",
              "      <td>D7230</td>\n",
              "      <td>275.00</td>\n",
              "      <td>0.00</td>\n",
              "      <td>275.00</td>\n",
              "    </tr>\n",
              "    <tr>\n",
              "      <th>3</th>\n",
              "      <td>4</td>\n",
              "      <td>2</td>\n",
              "      <td>3</td>\n",
              "      <td>A</td>\n",
              "      <td>P</td>\n",
              "      <td>251</td>\n",
              "      <td>1348</td>\n",
              "      <td>4</td>\n",
              "      <td>18-Jan-2019</td>\n",
              "      <td>02-Mar-2019</td>\n",
              "      <td>HCPC</td>\n",
              "      <td>D7230</td>\n",
              "      <td>275.00</td>\n",
              "      <td>37.00</td>\n",
              "      <td>238.00</td>\n",
              "    </tr>\n",
              "    <tr>\n",
              "      <th>4</th>\n",
              "      <td>5</td>\n",
              "      <td>2</td>\n",
              "      <td>4</td>\n",
              "      <td>A</td>\n",
              "      <td>P</td>\n",
              "      <td>251</td>\n",
              "      <td>1348</td>\n",
              "      <td>4</td>\n",
              "      <td>18-Jan-2019</td>\n",
              "      <td>02-Mar-2019</td>\n",
              "      <td>HCPC</td>\n",
              "      <td>D7230</td>\n",
              "      <td>275.00</td>\n",
              "      <td>37.00</td>\n",
              "      <td>238.00</td>\n",
              "    </tr>\n",
              "  </tbody>\n",
              "</table>\n",
              "</div>\n",
              "      <button class=\"colab-df-convert\" onclick=\"convertToInteractive('df-3e23b601-900b-4f63-ad95-c70b544005cc')\"\n",
              "              title=\"Convert this dataframe to an interactive table.\"\n",
              "              style=\"display:none;\">\n",
              "        \n",
              "  <svg xmlns=\"http://www.w3.org/2000/svg\" height=\"24px\"viewBox=\"0 0 24 24\"\n",
              "       width=\"24px\">\n",
              "    <path d=\"M0 0h24v24H0V0z\" fill=\"none\"/>\n",
              "    <path d=\"M18.56 5.44l.94 2.06.94-2.06 2.06-.94-2.06-.94-.94-2.06-.94 2.06-2.06.94zm-11 1L8.5 8.5l.94-2.06 2.06-.94-2.06-.94L8.5 2.5l-.94 2.06-2.06.94zm10 10l.94 2.06.94-2.06 2.06-.94-2.06-.94-.94-2.06-.94 2.06-2.06.94z\"/><path d=\"M17.41 7.96l-1.37-1.37c-.4-.4-.92-.59-1.43-.59-.52 0-1.04.2-1.43.59L10.3 9.45l-7.72 7.72c-.78.78-.78 2.05 0 2.83L4 21.41c.39.39.9.59 1.41.59.51 0 1.02-.2 1.41-.59l7.78-7.78 2.81-2.81c.8-.78.8-2.07 0-2.86zM5.41 20L4 18.59l7.72-7.72 1.47 1.35L5.41 20z\"/>\n",
              "  </svg>\n",
              "      </button>\n",
              "      \n",
              "  <style>\n",
              "    .colab-df-container {\n",
              "      display:flex;\n",
              "      flex-wrap:wrap;\n",
              "      gap: 12px;\n",
              "    }\n",
              "\n",
              "    .colab-df-convert {\n",
              "      background-color: #E8F0FE;\n",
              "      border: none;\n",
              "      border-radius: 50%;\n",
              "      cursor: pointer;\n",
              "      display: none;\n",
              "      fill: #1967D2;\n",
              "      height: 32px;\n",
              "      padding: 0 0 0 0;\n",
              "      width: 32px;\n",
              "    }\n",
              "\n",
              "    .colab-df-convert:hover {\n",
              "      background-color: #E2EBFA;\n",
              "      box-shadow: 0px 1px 2px rgba(60, 64, 67, 0.3), 0px 1px 3px 1px rgba(60, 64, 67, 0.15);\n",
              "      fill: #174EA6;\n",
              "    }\n",
              "\n",
              "    [theme=dark] .colab-df-convert {\n",
              "      background-color: #3B4455;\n",
              "      fill: #D2E3FC;\n",
              "    }\n",
              "\n",
              "    [theme=dark] .colab-df-convert:hover {\n",
              "      background-color: #434B5C;\n",
              "      box-shadow: 0px 1px 3px 1px rgba(0, 0, 0, 0.15);\n",
              "      filter: drop-shadow(0px 1px 2px rgba(0, 0, 0, 0.3));\n",
              "      fill: #FFFFFF;\n",
              "    }\n",
              "  </style>\n",
              "\n",
              "      <script>\n",
              "        const buttonEl =\n",
              "          document.querySelector('#df-3e23b601-900b-4f63-ad95-c70b544005cc button.colab-df-convert');\n",
              "        buttonEl.style.display =\n",
              "          google.colab.kernel.accessAllowed ? 'block' : 'none';\n",
              "\n",
              "        async function convertToInteractive(key) {\n",
              "          const element = document.querySelector('#df-3e23b601-900b-4f63-ad95-c70b544005cc');\n",
              "          const dataTable =\n",
              "            await google.colab.kernel.invokeFunction('convertToInteractive',\n",
              "                                                     [key], {});\n",
              "          if (!dataTable) return;\n",
              "\n",
              "          const docLinkHtml = 'Like what you see? Visit the ' +\n",
              "            '<a target=\"_blank\" href=https://colab.research.google.com/notebooks/data_table.ipynb>data table notebook</a>'\n",
              "            + ' to learn more about interactive tables.';\n",
              "          element.innerHTML = '';\n",
              "          dataTable['output_type'] = 'display_data';\n",
              "          await google.colab.output.renderOutput(dataTable, element);\n",
              "          const docLink = document.createElement('div');\n",
              "          docLink.innerHTML = docLinkHtml;\n",
              "          element.appendChild(docLink);\n",
              "        }\n",
              "      </script>\n",
              "    </div>\n",
              "  </div>\n",
              "  "
            ],
            "text/plain": [
              "   IDNO  ClaimID  ClaimLineNum  ... AllowedCharges PaidClaims  MemberPaid\n",
              "0     1        1             1  ...         225.00       0.00      225.00\n",
              "1     2        1             2  ...         413.00       0.00      413.00\n",
              "2     3        2             2  ...         275.00       0.00      275.00\n",
              "3     4        2             3  ...         275.00      37.00      238.00\n",
              "4     5        2             4  ...         275.00      37.00      238.00\n",
              "\n",
              "[5 rows x 15 columns]"
            ]
          },
          "metadata": {},
          "execution_count": 11
        }
      ],
      "source": [
        "#convert ResultSet to a dataframe to analyze in pandas\n",
        "claims = result_claims.DataFrame()\n",
        "claims.head()"
      ]
    },
    {
      "cell_type": "code",
      "execution_count": null,
      "id": "EKwRaiyS9KGk",
      "metadata": {
        "id": "EKwRaiyS9KGk"
      },
      "outputs": [],
      "source": [
        "%%sql\n",
        "\n",
        "SELECT * \n",
        "FROM dim_member;"
      ]
    },
    {
      "cell_type": "code",
      "execution_count": 15,
      "id": "M2rPpgUD9mpm",
      "metadata": {
        "id": "M2rPpgUD9mpm"
      },
      "outputs": [],
      "source": [
        "result_members = _\n",
        "members = result_members.DataFrame()"
      ]
    },
    {
      "cell_type": "code",
      "execution_count": 19,
      "id": "c8650c71",
      "metadata": {
        "colab": {
          "base_uri": "https://localhost:8080/",
          "height": 206
        },
        "id": "c8650c71",
        "outputId": "68931802-039f-4219-82f6-4b1acb404f34"
      },
      "outputs": [
        {
          "output_type": "execute_result",
          "data": {
            "text/html": [
              "\n",
              "  <div id=\"df-5fba2c56-4175-4748-a171-ee61f07b7701\">\n",
              "    <div class=\"colab-df-container\">\n",
              "      <div>\n",
              "<style scoped>\n",
              "    .dataframe tbody tr th:only-of-type {\n",
              "        vertical-align: middle;\n",
              "    }\n",
              "\n",
              "    .dataframe tbody tr th {\n",
              "        vertical-align: top;\n",
              "    }\n",
              "\n",
              "    .dataframe thead th {\n",
              "        text-align: right;\n",
              "    }\n",
              "</style>\n",
              "<table border=\"1\" class=\"dataframe\">\n",
              "  <thead>\n",
              "    <tr style=\"text-align: right;\">\n",
              "      <th></th>\n",
              "      <th>IDNO</th>\n",
              "      <th>memberID</th>\n",
              "      <th>Gender</th>\n",
              "      <th>dateOfBirth</th>\n",
              "      <th>firstname</th>\n",
              "      <th>lastname</th>\n",
              "      <th>member_street</th>\n",
              "      <th>member_city</th>\n",
              "      <th>member_County</th>\n",
              "      <th>member_state</th>\n",
              "      <th>member_zip</th>\n",
              "      <th>Product</th>\n",
              "      <th>Client_ID</th>\n",
              "      <th>StartDate</th>\n",
              "      <th>EndDate</th>\n",
              "    </tr>\n",
              "  </thead>\n",
              "  <tbody>\n",
              "    <tr>\n",
              "      <th>0</th>\n",
              "      <td>1</td>\n",
              "      <td>1</td>\n",
              "      <td>M</td>\n",
              "      <td>20-Jan-1959</td>\n",
              "      <td>Liam</td>\n",
              "      <td>Aaron</td>\n",
              "      <td>1060 Blackjack Pine Street</td>\n",
              "      <td>Bulk Mail Center</td>\n",
              "      <td>Allegheny</td>\n",
              "      <td>PA</td>\n",
              "      <td>15095</td>\n",
              "      <td>PPO</td>\n",
              "      <td>A00124</td>\n",
              "      <td>01-Apr-2018</td>\n",
              "      <td>31-Dec-2020</td>\n",
              "    </tr>\n",
              "    <tr>\n",
              "      <th>1</th>\n",
              "      <td>2</td>\n",
              "      <td>2</td>\n",
              "      <td>M</td>\n",
              "      <td>24-Aug-1970</td>\n",
              "      <td>Noah</td>\n",
              "      <td>Archer</td>\n",
              "      <td>2383 Blister Fir Street</td>\n",
              "      <td>Warrendale</td>\n",
              "      <td>Allegheny</td>\n",
              "      <td>PA</td>\n",
              "      <td>15095</td>\n",
              "      <td>HMO</td>\n",
              "      <td>A00123</td>\n",
              "      <td>01-Sep-2021</td>\n",
              "      <td>30-Sep-2021</td>\n",
              "    </tr>\n",
              "    <tr>\n",
              "      <th>2</th>\n",
              "      <td>3</td>\n",
              "      <td>2</td>\n",
              "      <td>M</td>\n",
              "      <td>24-Aug-1970</td>\n",
              "      <td>Noah</td>\n",
              "      <td>Archer</td>\n",
              "      <td>2383 Blister Fir Street</td>\n",
              "      <td>Warrendale</td>\n",
              "      <td>Allegheny</td>\n",
              "      <td>PA</td>\n",
              "      <td>15095</td>\n",
              "      <td>HMO</td>\n",
              "      <td>A00123</td>\n",
              "      <td>01-Apr-2018</td>\n",
              "      <td>31-Jul-2021</td>\n",
              "    </tr>\n",
              "    <tr>\n",
              "      <th>3</th>\n",
              "      <td>4</td>\n",
              "      <td>3</td>\n",
              "      <td>M</td>\n",
              "      <td>01-Apr-1957</td>\n",
              "      <td>Elijah</td>\n",
              "      <td>Beck</td>\n",
              "      <td>1230 Bracted Balsam Fir Street</td>\n",
              "      <td>Bethel Park</td>\n",
              "      <td>Allegheny</td>\n",
              "      <td>PA</td>\n",
              "      <td>15102</td>\n",
              "      <td>PPO</td>\n",
              "      <td>A00124</td>\n",
              "      <td>01-Apr-2018</td>\n",
              "      <td>31-Jul-2018</td>\n",
              "    </tr>\n",
              "    <tr>\n",
              "      <th>4</th>\n",
              "      <td>5</td>\n",
              "      <td>4</td>\n",
              "      <td>M</td>\n",
              "      <td>27-Jun-1986</td>\n",
              "      <td>Lucas</td>\n",
              "      <td>Blixt</td>\n",
              "      <td>1755 Bristlecone Fir Street</td>\n",
              "      <td>Braddock</td>\n",
              "      <td>Allegheny</td>\n",
              "      <td>PA</td>\n",
              "      <td>15104</td>\n",
              "      <td>PPO</td>\n",
              "      <td>A00124</td>\n",
              "      <td>01-Apr-2018</td>\n",
              "      <td>31-Dec-2020</td>\n",
              "    </tr>\n",
              "  </tbody>\n",
              "</table>\n",
              "</div>\n",
              "      <button class=\"colab-df-convert\" onclick=\"convertToInteractive('df-5fba2c56-4175-4748-a171-ee61f07b7701')\"\n",
              "              title=\"Convert this dataframe to an interactive table.\"\n",
              "              style=\"display:none;\">\n",
              "        \n",
              "  <svg xmlns=\"http://www.w3.org/2000/svg\" height=\"24px\"viewBox=\"0 0 24 24\"\n",
              "       width=\"24px\">\n",
              "    <path d=\"M0 0h24v24H0V0z\" fill=\"none\"/>\n",
              "    <path d=\"M18.56 5.44l.94 2.06.94-2.06 2.06-.94-2.06-.94-.94-2.06-.94 2.06-2.06.94zm-11 1L8.5 8.5l.94-2.06 2.06-.94-2.06-.94L8.5 2.5l-.94 2.06-2.06.94zm10 10l.94 2.06.94-2.06 2.06-.94-2.06-.94-.94-2.06-.94 2.06-2.06.94z\"/><path d=\"M17.41 7.96l-1.37-1.37c-.4-.4-.92-.59-1.43-.59-.52 0-1.04.2-1.43.59L10.3 9.45l-7.72 7.72c-.78.78-.78 2.05 0 2.83L4 21.41c.39.39.9.59 1.41.59.51 0 1.02-.2 1.41-.59l7.78-7.78 2.81-2.81c.8-.78.8-2.07 0-2.86zM5.41 20L4 18.59l7.72-7.72 1.47 1.35L5.41 20z\"/>\n",
              "  </svg>\n",
              "      </button>\n",
              "      \n",
              "  <style>\n",
              "    .colab-df-container {\n",
              "      display:flex;\n",
              "      flex-wrap:wrap;\n",
              "      gap: 12px;\n",
              "    }\n",
              "\n",
              "    .colab-df-convert {\n",
              "      background-color: #E8F0FE;\n",
              "      border: none;\n",
              "      border-radius: 50%;\n",
              "      cursor: pointer;\n",
              "      display: none;\n",
              "      fill: #1967D2;\n",
              "      height: 32px;\n",
              "      padding: 0 0 0 0;\n",
              "      width: 32px;\n",
              "    }\n",
              "\n",
              "    .colab-df-convert:hover {\n",
              "      background-color: #E2EBFA;\n",
              "      box-shadow: 0px 1px 2px rgba(60, 64, 67, 0.3), 0px 1px 3px 1px rgba(60, 64, 67, 0.15);\n",
              "      fill: #174EA6;\n",
              "    }\n",
              "\n",
              "    [theme=dark] .colab-df-convert {\n",
              "      background-color: #3B4455;\n",
              "      fill: #D2E3FC;\n",
              "    }\n",
              "\n",
              "    [theme=dark] .colab-df-convert:hover {\n",
              "      background-color: #434B5C;\n",
              "      box-shadow: 0px 1px 3px 1px rgba(0, 0, 0, 0.15);\n",
              "      filter: drop-shadow(0px 1px 2px rgba(0, 0, 0, 0.3));\n",
              "      fill: #FFFFFF;\n",
              "    }\n",
              "  </style>\n",
              "\n",
              "      <script>\n",
              "        const buttonEl =\n",
              "          document.querySelector('#df-5fba2c56-4175-4748-a171-ee61f07b7701 button.colab-df-convert');\n",
              "        buttonEl.style.display =\n",
              "          google.colab.kernel.accessAllowed ? 'block' : 'none';\n",
              "\n",
              "        async function convertToInteractive(key) {\n",
              "          const element = document.querySelector('#df-5fba2c56-4175-4748-a171-ee61f07b7701');\n",
              "          const dataTable =\n",
              "            await google.colab.kernel.invokeFunction('convertToInteractive',\n",
              "                                                     [key], {});\n",
              "          if (!dataTable) return;\n",
              "\n",
              "          const docLinkHtml = 'Like what you see? Visit the ' +\n",
              "            '<a target=\"_blank\" href=https://colab.research.google.com/notebooks/data_table.ipynb>data table notebook</a>'\n",
              "            + ' to learn more about interactive tables.';\n",
              "          element.innerHTML = '';\n",
              "          dataTable['output_type'] = 'display_data';\n",
              "          await google.colab.output.renderOutput(dataTable, element);\n",
              "          const docLink = document.createElement('div');\n",
              "          docLink.innerHTML = docLinkHtml;\n",
              "          element.appendChild(docLink);\n",
              "        }\n",
              "      </script>\n",
              "    </div>\n",
              "  </div>\n",
              "  "
            ],
            "text/plain": [
              "   IDNO  memberID Gender  ... Client_ID    StartDate      EndDate\n",
              "0     1         1      M  ...    A00124  01-Apr-2018  31-Dec-2020\n",
              "1     2         2      M  ...    A00123  01-Sep-2021  30-Sep-2021\n",
              "2     3         2      M  ...    A00123  01-Apr-2018  31-Jul-2021\n",
              "3     4         3      M  ...    A00124  01-Apr-2018  31-Jul-2018\n",
              "4     5         4      M  ...    A00124  01-Apr-2018  31-Dec-2020\n",
              "\n",
              "[5 rows x 15 columns]"
            ]
          },
          "metadata": {},
          "execution_count": 19
        }
      ],
      "source": [
        "members.head()"
      ]
    },
    {
      "cell_type": "markdown",
      "id": "3c5e1c45",
      "metadata": {
        "id": "3c5e1c45"
      },
      "source": [
        "## Analysis and Visualizations:"
      ]
    },
    {
      "cell_type": "code",
      "source": [
        "#convert columns\n",
        "import pandas as pd\n",
        "\n",
        "claims['ServiceDate'] = pd.to_datetime(claims['ServiceDate'])\n",
        "claims['LoadDate'] = pd.to_datetime(claims['LoadDate'])\n",
        "claims['AllowedCharges'] = pd.to_numeric(claims['AllowedCharges'])\n",
        "claims['PaidClaims'] = pd.to_numeric(claims['PaidClaims'])\n",
        "claims['MemberPaid'] = pd.to_numeric(claims['MemberPaid'])\n",
        "\n",
        "claims.info()"
      ],
      "metadata": {
        "colab": {
          "base_uri": "https://localhost:8080/"
        },
        "id": "dBUHhuj9tbsh",
        "outputId": "cbe8e210-c31b-4135-a1c7-36e68c8eb318"
      },
      "id": "dBUHhuj9tbsh",
      "execution_count": 27,
      "outputs": [
        {
          "output_type": "stream",
          "name": "stdout",
          "text": [
            "<class 'pandas.core.frame.DataFrame'>\n",
            "RangeIndex: 45423 entries, 0 to 45422\n",
            "Data columns (total 15 columns):\n",
            " #   Column          Non-Null Count  Dtype         \n",
            "---  ------          --------------  -----         \n",
            " 0   IDNO            45423 non-null  int64         \n",
            " 1   ClaimID         45423 non-null  int64         \n",
            " 2   ClaimLineNum    45423 non-null  int64         \n",
            " 3   ClaimStatusCd   45423 non-null  object        \n",
            " 4   ClaimType       45423 non-null  object        \n",
            " 5   MemberID        45423 non-null  int64         \n",
            " 6   ProviderID      45423 non-null  int64         \n",
            " 7   posID           45423 non-null  int64         \n",
            " 8   ServiceDate     45423 non-null  datetime64[ns]\n",
            " 9   LoadDate        45423 non-null  datetime64[ns]\n",
            " 10  Code_Type       45423 non-null  object        \n",
            " 11  Code_Value      45423 non-null  object        \n",
            " 12  AllowedCharges  45423 non-null  float64       \n",
            " 13  PaidClaims      45423 non-null  float64       \n",
            " 14  MemberPaid      45423 non-null  float64       \n",
            "dtypes: datetime64[ns](2), float64(3), int64(6), object(4)\n",
            "memory usage: 5.2+ MB\n"
          ]
        }
      ]
    },
    {
      "cell_type": "code",
      "source": [
        "#convert members columns to date\n",
        "members['dateOfBirth'] = pd.to_datetime(members['dateOfBirth'])\n",
        "members['StartDate'] = pd.to_datetime(members['StartDate'])\n",
        "members['EndDate'] = pd.to_datetime(members['EndDate'])\n",
        "members.info()"
      ],
      "metadata": {
        "colab": {
          "base_uri": "https://localhost:8080/"
        },
        "id": "rQFffMs_vB6Y",
        "outputId": "e620faa0-03f1-4ef1-cd1d-d68fb16ac502"
      },
      "id": "rQFffMs_vB6Y",
      "execution_count": 30,
      "outputs": [
        {
          "output_type": "stream",
          "name": "stdout",
          "text": [
            "<class 'pandas.core.frame.DataFrame'>\n",
            "RangeIndex: 840 entries, 0 to 839\n",
            "Data columns (total 15 columns):\n",
            " #   Column         Non-Null Count  Dtype         \n",
            "---  ------         --------------  -----         \n",
            " 0   IDNO           840 non-null    int64         \n",
            " 1   memberID       840 non-null    int64         \n",
            " 2   Gender         840 non-null    object        \n",
            " 3   dateOfBirth    840 non-null    datetime64[ns]\n",
            " 4   firstname      840 non-null    object        \n",
            " 5   lastname       840 non-null    object        \n",
            " 6   member_street  840 non-null    object        \n",
            " 7   member_city    840 non-null    object        \n",
            " 8   member_County  840 non-null    object        \n",
            " 9   member_state   840 non-null    object        \n",
            " 10  member_zip     840 non-null    object        \n",
            " 11  Product        840 non-null    object        \n",
            " 12  Client_ID      840 non-null    object        \n",
            " 13  StartDate      840 non-null    datetime64[ns]\n",
            " 14  EndDate        840 non-null    datetime64[ns]\n",
            "dtypes: datetime64[ns](3), int64(2), object(10)\n",
            "memory usage: 98.6+ KB\n"
          ]
        }
      ]
    },
    {
      "cell_type": "code",
      "source": [
        "#get number of males v females\n",
        "member_sex_counts = members[\"Gender\"].value_counts()\n",
        "print(member_sex_counts, \"\\n\")\n",
        "\n",
        "#get proportions of males v females\n",
        "member_sex_props = members[\"Gender\"].value_counts(normalize=True)\n",
        "print(member_sex_props)"
      ],
      "metadata": {
        "colab": {
          "base_uri": "https://localhost:8080/"
        },
        "id": "nE3oB4r0wqQD",
        "outputId": "7cb7eb67-3219-4aa7-aac3-93e926e798e7"
      },
      "id": "nE3oB4r0wqQD",
      "execution_count": 34,
      "outputs": [
        {
          "output_type": "stream",
          "name": "stdout",
          "text": [
            "M    498\n",
            "F    342\n",
            "Name: Gender, dtype: int64 \n",
            "\n",
            "M    0.592857\n",
            "F    0.407143\n",
            "Name: Gender, dtype: float64\n"
          ]
        }
      ]
    },
    {
      "cell_type": "code",
      "execution_count": 41,
      "id": "C_VitcY07-W3",
      "metadata": {
        "colab": {
          "base_uri": "https://localhost:8080/",
          "height": 294
        },
        "id": "C_VitcY07-W3",
        "outputId": "3c957370-ae8f-415b-be4d-6e03bd7f6936"
      },
      "outputs": [
        {
          "output_type": "display_data",
          "data": {
            "image/png": "[encoded data removed]",
            "text/plain": [
              "<Figure size 432x288 with 1 Axes>"
            ]
          },
          "metadata": {
            "needs_background": "light"
          }
        }
      ],
      "source": [
        "#plot data in matplotlib\n",
        "import matplotlib.pyplot as plt\n",
        "fig, ax = plt.subplots()\n",
        "\n",
        "member_sex_props.plot(kind=\"bar\")\n",
        "\n",
        "ax.set_xlabel(\"Sex\")\n",
        "ax.set_ylabel(\"Proportion\")\n",
        "ax.set_title(\"Histogram of Member Sex\")\n",
        "plt.show()"
      ]
    },
    {
      "cell_type": "code",
      "source": [
        "fig, ax = plt.subplots()\n",
        "\n",
        "members_type_of_policy = members[\"Product\"].value_counts(normalize=True)\n",
        "members_type_of_policy.plot(kind=\"bar\")\n",
        "\n",
        "ax.set_xlabel(\"Plan Type\")\n",
        "ax.set_ylabel(\"Proportion\")\n",
        "ax.set_title(\"Histogram of Member Plan Type\")\n",
        "\n",
        "plt.show()"
      ],
      "metadata": {
        "colab": {
          "base_uri": "https://localhost:8080/",
          "height": 309
        },
        "id": "WogxOQ3ax-X1",
        "outputId": "28605e5f-886f-4cd8-d647-446d65bf7445"
      },
      "id": "WogxOQ3ax-X1",
      "execution_count": 46,
      "outputs": [
        {
          "output_type": "display_data",
          "data": {
            "image/png": "[encoded data removed]",
            "text/plain": [
              "<Figure size 432x288 with 1 Axes>"
            ]
          },
          "metadata": {
            "needs_background": "light"
          }
        }
      ]
    },
    {
      "cell_type": "code",
      "source": [
        ""
      ],
      "metadata": {
        "id": "mLTvolony5Jt"
      },
      "id": "mLTvolony5Jt",
      "execution_count": null,
      "outputs": []
    }
  ],
  "metadata": {
    "colab": {
      "collapsed_sections": [],
      "name": "insurance_database.ipynb",
      "provenance": []
    },
    "kernelspec": {
      "display_name": "Python 3 (ipykernel)",
      "language": "python",
      "name": "python3"
    },
    "language_info": {
      "codemirror_mode": {
        "name": "ipython",
        "version": 3
      },
      "file_extension": ".py",
      "mimetype": "text/x-python",
      "name": "python",
      "nbconvert_exporter": "python",
      "pygments_lexer": "ipython3",
      "version": "3.10.1"
    }
  },
  "nbformat": 4,
  "nbformat_minor": 5
}