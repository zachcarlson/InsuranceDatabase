{
 "cells": [
  {
   "cell_type": "markdown",
   "id": "4b45b7eb",
   "metadata": {
    "id": "4b45b7eb"
   },
   "source": [
    "# Insurance Database"
   ]
  },
  {
   "cell_type": "markdown",
   "id": "HmjRToroGESW",
   "metadata": {
    "id": "HmjRToroGESW"
   },
   "source": [
    "## Configuration:\n",
    "### Install Packages:"
   ]
  },
  {
   "cell_type": "markdown",
   "id": "825eeaa3",
   "metadata": {
    "id": "825eeaa3"
   },
   "source": [
    "Ensure you have the library `sqlalchemy` installed in order to connect to the MySQL database.  Install these packages by uncommenting the code cell below:"
   ]
  },
  {
   "cell_type": "code",
   "execution_count": 1,
   "id": "14cf22e5",
   "metadata": {
    "id": "14cf22e5"
   },
   "outputs": [],
   "source": [
    "# !pip install sqlalchemy"
   ]
  },
  {
   "cell_type": "markdown",
   "id": "d02a549b",
   "metadata": {
    "id": "d02a549b"
   },
   "source": [
    "This Jupyter Notebook also requires the libraries `pandas` and `matplotlib` for importing and visualizing data.  Install these packages by uncommenting the code cell below:"
   ]
  },
  {
   "cell_type": "code",
   "execution_count": 2,
   "id": "5952f1da",
   "metadata": {
    "id": "5952f1da"
   },
   "outputs": [],
   "source": [
    "# !pip install pandas\n",
    "# !pip install matplotlib"
   ]
  },
  {
   "cell_type": "markdown",
   "id": "bc2a8062",
   "metadata": {},
   "source": [
    "### Load Functions and Packages:"
   ]
  },
  {
   "cell_type": "code",
   "execution_count": 3,
   "id": "d80c4c1f",
   "metadata": {},
   "outputs": [],
   "source": [
    "import database_info #personal .py file containing database login info\n",
    "import matplotlib.pyplot as plt\n",
    "import pandas as pd\n",
    "from sqlalchemy import create_engine"
   ]
  },
  {
   "cell_type": "markdown",
   "id": "a7ebccc6",
   "metadata": {
    "id": "a7ebccc6"
   },
   "source": [
    "### Connect to SQL Database:"
   ]
  },
  {
   "cell_type": "markdown",
   "id": "16c9b1ff",
   "metadata": {
    "id": "16c9b1ff"
   },
   "source": [
    "Now we can make our SQL connnection, first load in your `database_info.py` file:"
   ]
  },
  {
   "cell_type": "code",
   "execution_count": 4,
   "id": "becaa13a",
   "metadata": {},
   "outputs": [],
   "source": [
    "import database_info"
   ]
  },
  {
   "cell_type": "markdown",
   "id": "b76d23d8",
   "metadata": {},
   "source": [
    "Now let's create our connection engine.  Make sure you've updated `database_info.py` with your connection information as well as ensuring the port number is correct:"
   ]
  },
  {
   "cell_type": "code",
   "execution_count": 5,
   "id": "8ffde9cc",
   "metadata": {},
   "outputs": [],
   "source": [
    "from sqlalchemy import create_engine\n",
    "engine = create_engine(database_info.connection_string)"
   ]
  },
  {
   "cell_type": "markdown",
   "id": "VtENT5c77px9",
   "metadata": {
    "id": "VtENT5c77px9"
   },
   "source": [
    "## Import SQL tables using `pandas`:"
   ]
  },
  {
   "cell_type": "code",
   "execution_count": 6,
   "id": "4c18d3bd",
   "metadata": {},
   "outputs": [],
   "source": [
    "query_string = \"SELECT * FROM claim_fact\"\n",
    "dt = pd.read_sql(query_string, engine)"
   ]
  },
  {
   "cell_type": "code",
   "execution_count": 7,
   "id": "4bc30a10",
   "metadata": {},
   "outputs": [
    {
     "data": {
      "text/html": [
       "<div>\n",
       "<style scoped>\n",
       "    .dataframe tbody tr th:only-of-type {\n",
       "        vertical-align: middle;\n",
       "    }\n",
       "\n",
       "    .dataframe tbody tr th {\n",
       "        vertical-align: top;\n",
       "    }\n",
       "\n",
       "    .dataframe thead th {\n",
       "        text-align: right;\n",
       "    }\n",
       "</style>\n",
       "<table border=\"1\" class=\"dataframe\">\n",
       "  <thead>\n",
       "    <tr style=\"text-align: right;\">\n",
       "      <th></th>\n",
       "      <th>IDNO</th>\n",
       "      <th>ClaimID</th>\n",
       "      <th>ClaimLineNum</th>\n",
       "      <th>ClaimStatusCd</th>\n",
       "      <th>ClaimType</th>\n",
       "      <th>MemberID</th>\n",
       "      <th>ProviderID</th>\n",
       "      <th>posID</th>\n",
       "      <th>ServiceDate</th>\n",
       "      <th>LoadDate</th>\n",
       "      <th>Code_Type</th>\n",
       "      <th>Code_Value</th>\n",
       "      <th>AllowedCharges</th>\n",
       "      <th>PaidClaims</th>\n",
       "      <th>MemberPaid</th>\n",
       "    </tr>\n",
       "  </thead>\n",
       "  <tbody>\n",
       "    <tr>\n",
       "      <th>0</th>\n",
       "      <td>1</td>\n",
       "      <td>1</td>\n",
       "      <td>1</td>\n",
       "      <td>A</td>\n",
       "      <td>P</td>\n",
       "      <td>251</td>\n",
       "      <td>1348</td>\n",
       "      <td>4</td>\n",
       "      <td>2019-01-18</td>\n",
       "      <td>2019-03-02</td>\n",
       "      <td>HCPC</td>\n",
       "      <td>D9222</td>\n",
       "      <td>225.0</td>\n",
       "      <td>0.0</td>\n",
       "      <td>225.0</td>\n",
       "    </tr>\n",
       "    <tr>\n",
       "      <th>1</th>\n",
       "      <td>2</td>\n",
       "      <td>1</td>\n",
       "      <td>2</td>\n",
       "      <td>A</td>\n",
       "      <td>P</td>\n",
       "      <td>251</td>\n",
       "      <td>1348</td>\n",
       "      <td>4</td>\n",
       "      <td>2019-01-18</td>\n",
       "      <td>2019-03-02</td>\n",
       "      <td>HCPC</td>\n",
       "      <td>D9223</td>\n",
       "      <td>413.0</td>\n",
       "      <td>0.0</td>\n",
       "      <td>413.0</td>\n",
       "    </tr>\n",
       "    <tr>\n",
       "      <th>2</th>\n",
       "      <td>3</td>\n",
       "      <td>2</td>\n",
       "      <td>2</td>\n",
       "      <td>A</td>\n",
       "      <td>P</td>\n",
       "      <td>251</td>\n",
       "      <td>1348</td>\n",
       "      <td>4</td>\n",
       "      <td>2019-01-18</td>\n",
       "      <td>2019-03-02</td>\n",
       "      <td>HCPC</td>\n",
       "      <td>D7230</td>\n",
       "      <td>275.0</td>\n",
       "      <td>0.0</td>\n",
       "      <td>275.0</td>\n",
       "    </tr>\n",
       "    <tr>\n",
       "      <th>3</th>\n",
       "      <td>4</td>\n",
       "      <td>2</td>\n",
       "      <td>3</td>\n",
       "      <td>A</td>\n",
       "      <td>P</td>\n",
       "      <td>251</td>\n",
       "      <td>1348</td>\n",
       "      <td>4</td>\n",
       "      <td>2019-01-18</td>\n",
       "      <td>2019-03-02</td>\n",
       "      <td>HCPC</td>\n",
       "      <td>D7230</td>\n",
       "      <td>275.0</td>\n",
       "      <td>37.0</td>\n",
       "      <td>238.0</td>\n",
       "    </tr>\n",
       "    <tr>\n",
       "      <th>4</th>\n",
       "      <td>5</td>\n",
       "      <td>2</td>\n",
       "      <td>4</td>\n",
       "      <td>A</td>\n",
       "      <td>P</td>\n",
       "      <td>251</td>\n",
       "      <td>1348</td>\n",
       "      <td>4</td>\n",
       "      <td>2019-01-18</td>\n",
       "      <td>2019-03-02</td>\n",
       "      <td>HCPC</td>\n",
       "      <td>D7230</td>\n",
       "      <td>275.0</td>\n",
       "      <td>37.0</td>\n",
       "      <td>238.0</td>\n",
       "    </tr>\n",
       "  </tbody>\n",
       "</table>\n",
       "</div>"
      ],
      "text/plain": [
       "   IDNO  ClaimID  ClaimLineNum ClaimStatusCd ClaimType  MemberID  ProviderID  \\\n",
       "0     1        1             1             A         P       251        1348   \n",
       "1     2        1             2             A         P       251        1348   \n",
       "2     3        2             2             A         P       251        1348   \n",
       "3     4        2             3             A         P       251        1348   \n",
       "4     5        2             4             A         P       251        1348   \n",
       "\n",
       "   posID ServiceDate    LoadDate Code_Type Code_Value  AllowedCharges  \\\n",
       "0      4  2019-01-18  2019-03-02      HCPC      D9222           225.0   \n",
       "1      4  2019-01-18  2019-03-02      HCPC      D9223           413.0   \n",
       "2      4  2019-01-18  2019-03-02      HCPC      D7230           275.0   \n",
       "3      4  2019-01-18  2019-03-02      HCPC      D7230           275.0   \n",
       "4      4  2019-01-18  2019-03-02      HCPC      D7230           275.0   \n",
       "\n",
       "   PaidClaims  MemberPaid  \n",
       "0         0.0       225.0  \n",
       "1         0.0       413.0  \n",
       "2         0.0       275.0  \n",
       "3        37.0       238.0  \n",
       "4        37.0       238.0  "
      ]
     },
     "execution_count": 7,
     "metadata": {},
     "output_type": "execute_result"
    }
   ],
   "source": [
    "dt.head()"
   ]
  },
  {
   "cell_type": "markdown",
   "id": "E6yB_Qcsrhg3",
   "metadata": {
    "id": "E6yB_Qcsrhg3"
   },
   "source": [
    "Our table names are:\n",
    "- `claim_fact`\n",
    "- `dim_date`\n",
    "- `dim_member`\n",
    "- `dim_member_condition`\n",
    "- `dim_place_of_service`\n",
    "- `dim_procedure`\n",
    "- `dim_provider`\n",
    "- `dim_provider_specialty`\n",
    "- `dim_provider_category`"
   ]
  },
  {
   "cell_type": "markdown",
   "id": "3c5e1c45",
   "metadata": {
    "id": "3c5e1c45"
   },
   "source": [
    "## Analysis and Visualizations:"
   ]
  },
  {
   "cell_type": "code",
   "execution_count": 8,
   "id": "dBUHhuj9tbsh",
   "metadata": {
    "colab": {
     "base_uri": "https://localhost:8080/"
    },
    "id": "dBUHhuj9tbsh",
    "outputId": "cbe8e210-c31b-4135-a1c7-36e68c8eb318"
   },
   "outputs": [],
   "source": [
    "# #convert columns\n",
    "# import pandas as pd\n",
    "\n",
    "# claims['ServiceDate'] = pd.to_datetime(claims['ServiceDate'])\n",
    "# claims['LoadDate'] = pd.to_datetime(claims['LoadDate'])\n",
    "# claims['AllowedCharges'] = pd.to_numeric(claims['AllowedCharges'])\n",
    "# claims['PaidClaims'] = pd.to_numeric(claims['PaidClaims'])\n",
    "# claims['MemberPaid'] = pd.to_numeric(claims['MemberPaid'])\n",
    "\n",
    "# claims.info()"
   ]
  },
  {
   "cell_type": "code",
   "execution_count": 9,
   "id": "rQFffMs_vB6Y",
   "metadata": {
    "colab": {
     "base_uri": "https://localhost:8080/"
    },
    "id": "rQFffMs_vB6Y",
    "outputId": "e620faa0-03f1-4ef1-cd1d-d68fb16ac502"
   },
   "outputs": [],
   "source": [
    "# #convert members columns to date\n",
    "# members['dateOfBirth'] = pd.to_datetime(members['dateOfBirth'])\n",
    "# members['StartDate'] = pd.to_datetime(members['StartDate'])\n",
    "# members['EndDate'] = pd.to_datetime(members['EndDate'])\n",
    "# members.info()"
   ]
  },
  {
   "cell_type": "code",
   "execution_count": 10,
   "id": "nE3oB4r0wqQD",
   "metadata": {
    "colab": {
     "base_uri": "https://localhost:8080/"
    },
    "id": "nE3oB4r0wqQD",
    "outputId": "7cb7eb67-3219-4aa7-aac3-93e926e798e7"
   },
   "outputs": [],
   "source": [
    "# #get number of males v females\n",
    "# member_sex_counts = members[\"Gender\"].value_counts()\n",
    "# print(member_sex_counts, \"\\n\")\n",
    "\n",
    "# #get proportions of males v females\n",
    "# member_sex_props = members[\"Gender\"].value_counts(normalize=True)\n",
    "# print(member_sex_props)"
   ]
  },
  {
   "cell_type": "code",
   "execution_count": 11,
   "id": "C_VitcY07-W3",
   "metadata": {
    "colab": {
     "base_uri": "https://localhost:8080/",
     "height": 294
    },
    "id": "C_VitcY07-W3",
    "outputId": "3c957370-ae8f-415b-be4d-6e03bd7f6936"
   },
   "outputs": [],
   "source": [
    "# #plot data in matplotlib\n",
    "# import matplotlib.pyplot as plt\n",
    "# fig, ax = plt.subplots()\n",
    "\n",
    "# member_sex_props.plot(kind=\"bar\")\n",
    "\n",
    "# ax.set_xlabel(\"Sex\")\n",
    "# ax.set_ylabel(\"Proportion\")\n",
    "# ax.set_title(\"Histogram of Member Sex\")\n",
    "# plt.show()"
   ]
  },
  {
   "cell_type": "code",
   "execution_count": 12,
   "id": "WogxOQ3ax-X1",
   "metadata": {
    "colab": {
     "base_uri": "https://localhost:8080/",
     "height": 309
    },
    "id": "WogxOQ3ax-X1",
    "outputId": "28605e5f-886f-4cd8-d647-446d65bf7445"
   },
   "outputs": [],
   "source": [
    "# fig, ax = plt.subplots()\n",
    "\n",
    "# members_type_of_policy = members[\"Product\"].value_counts(normalize=True)\n",
    "# members_type_of_policy.plot(kind=\"bar\")\n",
    "\n",
    "# ax.set_xlabel(\"Plan Type\")\n",
    "# ax.set_ylabel(\"Proportion\")\n",
    "# ax.set_title(\"Histogram of Member Plan Type\")\n",
    "\n",
    "# plt.show()"
   ]
  }
 ],
 "metadata": {
  "colab": {
   "collapsed_sections": [],
   "name": "insurance_database.ipynb",
   "provenance": []
  },
  "kernelspec": {
   "display_name": "Python 3 (ipykernel)",
   "language": "python",
   "name": "python3"
  },
  "language_info": {
   "codemirror_mode": {
    "name": "ipython",
    "version": 3
   },
   "file_extension": ".py",
   "mimetype": "text/x-python",
   "name": "python",
   "nbconvert_exporter": "python",
   "pygments_lexer": "ipython3",
   "version": "3.10.1"
  }
 },
 "nbformat": 4,
 "nbformat_minor": 5
}
